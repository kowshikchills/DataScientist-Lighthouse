{
 "cells": [
  {
   "cell_type": "markdown",
   "metadata": {},
   "source": [
    "# Phase 1, Flase Flag Data"
   ]
  },
  {
   "cell_type": "markdown",
   "metadata": {},
   "source": [
    "## Training the model"
   ]
  },
  {
   "cell_type": "code",
   "execution_count": 120,
   "metadata": {
    "collapsed": false
   },
   "outputs": [],
   "source": [
    "import numpy as np\n",
    "import pandas\n",
    "from sklearn.feature_extraction import DictVectorizer\n",
    "from sklearn.ensemble import RandomForestRegressor\n",
    "from sklearn.ensemble import GradientBoostingRegressor,ExtraTreesRegressor,BaggingRegressor\n",
    "URL = 'C:\\Users\\Kowshik\\Desktop\\Lighthouse\\Consolidated data\\MTV_T.xlsx'\n",
    "df_train = pandas.read_excel(URL,sheetname=1)\n",
    "df_total = pandas.read_excel(URL,sheetname=0)\n",
    "df_test = pandas.read_excel(URL,sheetname=2)"
   ]
  },
  {
   "cell_type": "code",
   "execution_count": 121,
   "metadata": {
    "collapsed": false
   },
   "outputs": [],
   "source": [
    "df_train_false = df_train[:]\n",
    "df_train_false = df_train_false[df_train_false.Level != True]\n",
    "#df_train_false = df_train_false[np.isfinite(df_train_false['Impressions'])]\n",
    "#deleting unwanted columns\n",
    "del df_train_false['BreakCode']                                  \n",
    "del df_train_false['EvType']\n",
    "del df_train_false['PromoCategory']\n",
    "del df_train_false['PromoType']\n",
    "del df_train_false['EndTime']\n",
    "del df_train_false['Level']\n",
    "#######################################################################################Prior and Subsequent programs \n",
    "priorProgram = []\n",
    "subsequentProgram = []\n",
    "for i in range(1,len(df_train_false['Description'].values)-1):\n",
    "    priorProgram.append(df_train_false['Description'].values[i-1])\n",
    "    subsequentProgram.append(df_train_false['Description'].values[i+1])\n",
    "df_train_false =df_train_false.drop(df_train_false.index[[0]])\n",
    "df_train_false =df_train_false.drop(df_train_false.index[[len(df_train_false['Description'].values)-1]])\n",
    "df_train_false['priorProgram'] = priorProgram \n",
    "df_train_false['subsequentProgram'] =  subsequentProgram\n",
    "########################################################################################Categerizing the channels\n",
    "df_PR = df_total[:]\n",
    "df_PR = df_PR[df_PR.Level != True]\n",
    "df_PR = df_PR[['Description','Impressions','ProgrammeTheme']]\n",
    "\n",
    "A = np.unique(df_PR['Description'].values)\n",
    "PI = {}\n",
    "for i in A:\n",
    "    PI[i] = []\n",
    "    for j in range(len(df_PR['Description'].values)):\n",
    "        if df_PR['Description'].values[j] == i:\n",
    "            PI[i].append(df_PR['Impressions'].values[j])\n",
    "PI_AVG = {}\n",
    "for i in A:\n",
    "    PI_AVG[i] = np.mean(PI[i])\n",
    "    \n",
    "clus = []\n",
    "for i in PI_AVG.values()[1:]:\n",
    "    clus.append([i])\n",
    "from sklearn.cluster import KMeans\n",
    "clu = KMeans(n_clusters=6,n_init = 100,precompute_distances=False,n_jobs=1) #----------------- NO OF CLUSTERS ------------------>\n",
    "clu.fit(clus)\n",
    "Description_classified_prior = df_train_false['priorProgram'].values\n",
    "for i in range(len(df_train_false['priorProgram'].values)):\n",
    "    Description_classified_prior[i] = clu.predict(PI_AVG[df_train_false['priorProgram'].values[i]])[0]\n",
    "Description_classifiedsubsequent =df_train_false['subsequentProgram'].values\n",
    "for i in range(len(df_train_false['subsequentProgram'].values)):\n",
    "    Description_classifiedsubsequent[i] = clu.predict(PI_AVG[df_train_false['subsequentProgram'].values[i]])[0]\n",
    "df_train_false['priorProgram'] = Description_classified_prior\n",
    "df_train_false['subsequentProgram'] = Description_classifiedsubsequent\n",
    "df_train_false.priorProgram= df_train_false.priorProgram.astype(str) \n",
    "df_train_false.subsequentProgram= df_train_false.subsequentProgram.astype(str)\n",
    "\n",
    "\n",
    "\n",
    "##################################################################################################Deleting and string conversion\n",
    "df_train_false.Date = df_train_false.Date.astype(str)                    #Changing the Date as String \n",
    "df_train_false.ProgrammeTheme= df_train_false.ProgrammeTheme.astype(str) #Changing the Programme Theme in String for encoding \n",
    "df_train_false.ProgrammeGenre= df_train_false.ProgrammeGenre.astype(str) #Changing the Programme Gerne in String for encoding \n",
    "df_train_false.StartTime= df_train_false.StartTime.astype(str) \n",
    "df_train_false.Length= df_train_false.Length.astype(str)\n",
    "Y_train_1 = np.array(df_train_false.Impressions)                       #Creating a array for impression Prediction \n",
    "del df_train_false['Description']\n",
    "\n",
    "\n",
    "\n",
    "\n",
    "#Length Dealing\n",
    "ftr = [3600,60,1]\n",
    "leng_seconds = [int(sum([a*b for a,b in zip(ftr, map(int,i.split(':')))])) for i in df_train_false['Length'].values]\n",
    "df_train_false['Length'] = leng_seconds#----------------------------------------------------------------------------------len in Seconds----------------->\n",
    "#Date Dealing\n",
    "month = [map(int,i.split('-'))[1] for i in df_train_false['Date'].values]\n",
    "day = [map(int,i.split('-'))[2] for i in df_train_false['Date'].values]\n",
    "df_train_false['Month'] = month       #----------------------------------------------------------------------------------Month--------->\n",
    "df_train_false['day'] = day           #------------------------------------------------------------------------------------Day--------->\n",
    "#Weekday dealing\n",
    "weekday = []\n",
    "import datetime\n",
    "for i in df_train_false['Date'].values:\n",
    "    year, month, day = (int(x) for x in i.split('-'))    \n",
    "    ans = datetime.date(year, month, day)\n",
    "    weekday.append(ans.strftime(\"%A\"))\n",
    "df_train_false['weekday'] = weekday  #---------------------------------------------------------------------------------------WeekdaysX------------>\n",
    "#Binary weekdays dealing\n",
    "binary_weekday = weekday[:]\n",
    "for i in range(len(weekday)):\n",
    "    if weekday[i] == 'Saturday':\n",
    "        binary_weekday[i] = 'Yes'\n",
    "    elif weekday[i] == 'Sunday':\n",
    "        binary_weekday[i] = 'Yes'\n",
    "    else:\n",
    "        binary_weekday[i] = 'No'\n",
    "df_train_false['B_weekday'] = binary_weekday #--------------------------------------------------------------------------------Binary weekend------>\n",
    "del df_train_false['Date'] #-----------------------------------------------------------------------------------------------Deleting Date------\n",
    "#StartTime Dealing\n",
    "Starttime = df_train_false['StartTime'].values\n",
    "for i in range(len(df_train_false['StartTime'].values)):\n",
    "    if len(df_train_false['StartTime'].values[i].split()) == 2:     \n",
    "        Starttime[i] =  df_train_false['StartTime'].values[i].split()[1]\n",
    "df_train_false['StartTime'] = Starttime #------------------------------------------------------------------------------------------Start time\n",
    "df_train_false['hour'] = [map(int,i.split(':'))[0] for i in df_train_false['StartTime'].values]#--------------------hour------------------------------->\n",
    "df_train_false.hour= df_train_false.hour.astype(str)\n",
    "df_train_false['StartTime'] = [map(int,i.split(':'))[0]+ map(int,i.split(':'))[1]/60.0+map(int,i.split(':'))[1]/3600.0 for i in df_train_false['StartTime'].values]\n"
   ]
  },
  {
   "cell_type": "markdown",
   "metadata": {},
   "source": [
    "Now Train Data is ready for training the model. encoding should be done with both testing and training data."
   ]
  },
  {
   "cell_type": "markdown",
   "metadata": {},
   "source": [
    "## Testing the phase 1 model"
   ]
  },
  {
   "cell_type": "code",
   "execution_count": 122,
   "metadata": {
    "collapsed": false
   },
   "outputs": [],
   "source": [
    "df_test_false = df_test[:]\n",
    "#df_test_false.Level= df_test_false.Level.astype(str)\n",
    "#Dropping true Flag values\n",
    "df_test_false = df_test_false[df_test_false.Level != True]\n",
    "df_test_false['D'] = df_test_false['Date'].values################################################ # # # # # # # # # #  # # # #\n",
    "#deleting unwanted columns\n",
    "del df_test_false['BreakCode']                                  \n",
    "del df_test_false['EvType']\n",
    "del df_test_false['PromoCategory']\n",
    "del df_test_false['PromoType']\n",
    "del df_test_false['EndTime']\n",
    "del df_test_false['Level'] \n",
    "#Taggin 'Movies / Plays' into Movie\n",
    "\n",
    "#Prior and Subsequent programs \n",
    "priorProgram = []\n",
    "subsequentProgram = []\n",
    "for i in range(1,len(df_test_false['Description'].values)-1):\n",
    "    priorProgram.append(df_test_false['Description'].values[i-1])\n",
    "    subsequentProgram.append(df_test_false['Description'].values[i+1])\n",
    "df_test_false =df_test_false.drop(df_test_false.index[[0]])\n",
    "df_test_false =df_test_false.drop(df_test_false.index[[len(df_test_false['Description'].values)-1]])\n",
    "df_test_false['priorProgram'] = priorProgram \n",
    "df_test_false['subsequentProgram'] =  subsequentProgram\n",
    "\n",
    "Description_classified_prior = df_test_false['priorProgram'].values\n",
    "for i in range(len(df_test_false['priorProgram'].values)):\n",
    "    Description_classified_prior[i] = clu.predict(PI_AVG[df_test_false['priorProgram'].values[i]])[0]\n",
    "Description_classifiedsubsequent =df_test_false['subsequentProgram'].values\n",
    "for i in range(len(df_test_false['subsequentProgram'].values)):\n",
    "    Description_classifiedsubsequent[i] = clu.predict(PI_AVG[df_test_false['subsequentProgram'].values[i]])[0]\n",
    "df_test_false['priorProgram'] = Description_classified_prior\n",
    "df_test_false['subsequentProgram'] = Description_classifiedsubsequent\n",
    "df_test_false.priorProgram= df_test_false.priorProgram.astype(str) \n",
    "df_test_false.subsequentProgram= df_test_false.subsequentProgram.astype(str)\n",
    "\n",
    "#Deleting and string conversion\n",
    "df_test_false.Date = df_test_false.Date.astype(str)                    #Changing the Date as String \n",
    "df_test_false.ProgrammeTheme= df_test_false.ProgrammeTheme.astype(str) #Changing the Programme Theme in String for encoding \n",
    "df_test_false.ProgrammeGenre= df_test_false.ProgrammeGenre.astype(str) #Changing the Programme Gerne in String for encoding \n",
    "df_test_false.StartTime= df_test_false.StartTime.astype(str) \n",
    "df_test_false.Length= df_test_false.Length.astype(str)\n",
    "Y_test_1 = np.array(df_test_false.Impressions)                       #Creating a array for impression Prediction \n",
    "del df_test_false['Description']\n",
    "\n",
    "\n",
    "\n",
    "#Length Dealing\n",
    "ftr = [3600,60,1]\n",
    "leng_seconds = [int(sum([a*b for a,b in zip(ftr, map(int,i.split(':')))])) for i in df_test_false['Length'].values]\n",
    "df_test_false['Length'] = leng_seconds#----------------------------------------------------------------------------------len in Seconds----------------->\n",
    "#Date Dealing\n",
    "month = [map(int,i.split('-'))[1] for i in df_test_false['Date'].values]\n",
    "day = [map(int,i.split('-'))[2] for i in df_test_false['Date'].values]\n",
    "df_test_false['Month'] = month       #----------------------------------------------------------------------------------Month--------->\n",
    "df_test_false['day'] = day           #------------------------------------------------------------------------------------Day--------->\n",
    "#Weekday dealing\n",
    "weekday = []\n",
    "import datetime\n",
    "for i in df_test_false['Date'].values:\n",
    "    year, month, day = (int(x) for x in i.split('-'))    \n",
    "    ans = datetime.date(year, month, day)\n",
    "    weekday.append(ans.strftime(\"%A\"))\n",
    "df_test_false['weekday'] = weekday  #---------------------------------------------------------------------------------------WeekdaysX------------>\n",
    "#Binary weekdays dealing\n",
    "binary_weekday = weekday[:]\n",
    "for i in range(len(weekday)):\n",
    "    if weekday[i] == 'Saturday':\n",
    "        binary_weekday[i] = 'Yes'\n",
    "    elif weekday[i] == 'Sunday':\n",
    "        binary_weekday[i] = 'Yes'\n",
    "    else:\n",
    "        binary_weekday[i] = 'No'\n",
    "df_test_false['B_weekday'] = binary_weekday #--------------------------------------------------------------------------------Binary weekend------>\n",
    "del df_test_false['Date'] #-----------------------------------------------------------------------------------------------Deleting Date------\n",
    "#StartTime Dealing\n",
    "Starttime = df_test_false['StartTime'].values\n",
    "for i in range(len(df_test_false['StartTime'].values)):\n",
    "    if len(df_test_false['StartTime'].values[i].split()) == 2:     \n",
    "        Starttime[i] =  df_test_false['StartTime'].values[i].split()[1]\n",
    "df_test_false['StartTime'] = Starttime #------------------------------------------------------------------------------------------Start time\n",
    "df_test_false['hour'] = [map(int,i.split(':'))[0] for i in df_test_false['StartTime'].values]#--------------------hour------------------------------->\n",
    "df_test_false.hour= df_test_false.hour.astype(str)\n",
    "df_test_false['StartTime'] = [map(int,i.split(':'))[0]+ map(int,i.split(':'))[1]/60.0+map(int,i.split(':'))[1]/3600.0 for i in df_test_false['StartTime'].values]"
   ]
  },
  {
   "cell_type": "markdown",
   "metadata": {},
   "source": [
    "Encoding Phase 1"
   ]
  },
  {
   "cell_type": "code",
   "execution_count": 123,
   "metadata": {
    "collapsed": false
   },
   "outputs": [],
   "source": [
    "#Decision channel\n",
    "df_te = df_test_false[:]\n",
    "Y_test_11 = np.array(df_te.Impressions)  \n",
    "Y_test_12 = np.array(df_te.Impressions1) #Creating a array for impression Prediction \n",
    "del df_te['Impressions']\n",
    "del df_te['Impressions1']\n",
    "#del df_te['StartTime'] #-------------------------------------------------------------------------------------------deleting starttime------>#\n",
    "#del df_te['priorProgram'] #---------------------------------------------------------------------------------- -----prior programme--------->\n",
    "#del df_te['subsequentProgram']#-------------------------------------------------------------------------- ----- ---subsequent programme\n",
    "#del df_te['Length']           #---------------------------------------------------------------------------------------------del length -------------->\n",
    "#del df_te['ProgrammeTheme'] #-------------------------------  ---------------------------------------------------- programe theme------->\n",
    "#del df_te['ProgrammeGenre'] #------------------------------------------------------------------------------------- ProgrammeGenre------->\n",
    "del df_te['B_weekday'] #---------------------------------------------------------------  --------------------------B-weekend------>\n",
    "del df_te['hour'] #-----------------------------------------------------------------------  ------------------------Hour--------->\n",
    "#del df_te['weekday'] #---------------------------------------------------------------------- -----------------------weekday-------->\n",
    "#del df_te['day'] #-------------------------------------------------------------------------- ------------------------day------->\n",
    "#del df_te['Month'] #-------------------------------------------------------------------------------------------------Month------>\n",
    "#df_te.StartTime= df_te.StartTime.astype(str)\n",
    "df_te.day= df_te.day.astype(str)\n",
    "df_te.Month= df_te.Month.astype(str)\n",
    "Dates = df_te['D'].values\n",
    "del df_te['D']"
   ]
  },
  {
   "cell_type": "code",
   "execution_count": 124,
   "metadata": {
    "collapsed": true
   },
   "outputs": [],
   "source": [
    "#Decision channel\n",
    "df_tr = df_train_false[:]\n",
    "Y_train_11 = np.array(df_tr.Impressions) \n",
    "Y_train_12 = np.array(df_tr.Impressions1) \n",
    "#Creating a array for impression Prediction \n",
    "del df_tr['Impressions']\n",
    "del df_tr['Impressions1']\n",
    "\n",
    "#del df_tr['StartTime'] #-------------------------------------------------------------------------------------------deleting starttime------>#\n",
    "#del df_tr['priorProgram'] #---------------------------------------------------------------------------------- -----prior programme--------->\n",
    "#del df_tr['subsequentProgram']#-------------------------------------------------------------------------- ----- ---subsequent programme\n",
    "#del df_tr['Length'] #---------------------------------------------------------------------------------------------del length -------------->\n",
    "#del df_tr['ProgrammeTheme'] #-------------------------------  ---------------------------------------------------- programe theme------->\n",
    "#del df_tr['ProgrammeGenre'] #------------------------------------------------------------------------------------- ProgrammeGenre------->\n",
    "#del df_tr['B_weekday'] #---------------------------------------------------------------  --------------------------B-weekend------>\n",
    "#del df_tr['hour'] #-----------------------------------------------------------------------  ------------------------Hour--------->\n",
    "del df_tr['weekday'] #---------------------------------------------------------------------- -----------------------weekday-------->\n",
    "#del df_tr['day'] #-------------------------------------------------------------------------- ------------------------day------->\n",
    "#del df_tr['Month'] #-------------------------------------------------------------------------------------------------Month------>\n",
    "df_tr.day= df_tr.day.astype(str)\n",
    "df_tr.Month= df_tr.Month.astype(str)"
   ]
  },
  {
   "cell_type": "code",
   "execution_count": 125,
   "metadata": {
    "collapsed": false
   },
   "outputs": [],
   "source": [
    "#ENCODING\n",
    "X_train = df_tr.to_dict('records')\n",
    "X_test = df_te.to_dict('records')\n",
    "X_tr = []\n",
    "X_te = []\n",
    "X_tr.extend(X_train)\n",
    "X_te.extend(X_test)\n",
    "X_total = X_tr + X_te"
   ]
  },
  {
   "cell_type": "code",
   "execution_count": 126,
   "metadata": {
    "collapsed": false
   },
   "outputs": [],
   "source": [
    "#One Hot Encoding \n",
    "enc = DictVectorizer()\n",
    "X_encoded_total =enc.fit_transform(X_total)\n",
    "X_encoded_train =X_encoded_total[:len(X_tr)]\n",
    "X_encoded_test =X_encoded_total[len(X_tr):]"
   ]
  },
  {
   "cell_type": "code",
   "execution_count": 127,
   "metadata": {
    "collapsed": false
   },
   "outputs": [],
   "source": [
    "#Extra Trees\n",
    "reg1 = RandomForestRegressor()\n",
    "reg2  = RandomForestRegressor()\n",
    "reg1.fit(X_encoded_train,Y_train_11)\n",
    "reg2.fit(X_encoded_train,Y_train_12)\n",
    "Y_pred_11 = reg1.predict(X_encoded_test)\n",
    "Y_pred_12 = reg2.predict(X_encoded_test)"
   ]
  },
  {
   "cell_type": "code",
   "execution_count": 103,
   "metadata": {
    "collapsed": false
   },
   "outputs": [],
   "source": [
    "MAPE = []\n",
    "ME = []\n",
    "X = []\n",
    "Y = []\n",
    "for i in range(len(Y_pred_12)):\n",
    "    ME.append(Y_pred_12[i] - Y_test_12[i])\n",
    "    X.append(abs(Y_pred_12[i] - Y_test_12[i]))\n",
    "    ME.append( Y_pred_12[i] - Y_test_12[i])\n",
    "    if (Y_pred_12[i] - Y_test_12[i]) == 0:\n",
    "        MAPE.append(0)\n",
    "    elif Y_test_12[i] == 0:\n",
    "        MAPE.append(1)\n",
    "    else:\n",
    "        MAPE.append(abs((Y_pred_12[i] - Y_test_12[i])/Y_test_12[i]))"
   ]
  },
  {
   "cell_type": "code",
   "execution_count": 165,
   "metadata": {
    "collapsed": false
   },
   "outputs": [
    {
     "name": "stderr",
     "output_type": "stream",
     "text": [
      "C:\\Users\\Kowshik\\AppData\\Local\\Enthought\\Canopy\\User\\lib\\site-packages\\ipykernel\\__main__.py:2: SettingWithCopyWarning: \n",
      "A value is trying to be set on a copy of a slice from a DataFrame.\n",
      "Try using .loc[row_indexer,col_indexer] = value instead\n",
      "\n",
      "See the caveats in the documentation: http://pandas.pydata.org/pandas-docs/stable/indexing.html#indexing-view-versus-copy\n",
      "  from ipykernel import kernelapp as app\n",
      "C:\\Users\\Kowshik\\AppData\\Local\\Enthought\\Canopy\\User\\lib\\site-packages\\ipykernel\\__main__.py:3: SettingWithCopyWarning: \n",
      "A value is trying to be set on a copy of a slice from a DataFrame.\n",
      "Try using .loc[row_indexer,col_indexer] = value instead\n",
      "\n",
      "See the caveats in the documentation: http://pandas.pydata.org/pandas-docs/stable/indexing.html#indexing-view-versus-copy\n",
      "  app.launch_new_instance()\n",
      "C:\\Users\\Kowshik\\AppData\\Local\\Enthought\\Canopy\\User\\lib\\site-packages\\ipykernel\\__main__.py:4: SettingWithCopyWarning: \n",
      "A value is trying to be set on a copy of a slice from a DataFrame.\n",
      "Try using .loc[row_indexer,col_indexer] = value instead\n",
      "\n",
      "See the caveats in the documentation: http://pandas.pydata.org/pandas-docs/stable/indexing.html#indexing-view-versus-copy\n"
     ]
    }
   ],
   "source": [
    "df = df_te[:]\n",
    "df['Actual'] = Y_test_11\n",
    "df['Predicted'] = Y_pred_11\n",
    "df['hour'] =df_test_false['hour'].values\n"
   ]
  },
  {
   "cell_type": "code",
   "execution_count": 150,
   "metadata": {
    "collapsed": true
   },
   "outputs": [],
   "source": [
    "df = df[df['hour'].isin(['1','2','3','4','5','0'])]"
   ]
  },
  {
   "cell_type": "code",
   "execution_count": 154,
   "metadata": {
    "collapsed": true
   },
   "outputs": [],
   "source": [
    "df = df[df['hour'].isin(['7','8','9','10','11'])]"
   ]
  },
  {
   "cell_type": "code",
   "execution_count": 158,
   "metadata": {
    "collapsed": true
   },
   "outputs": [],
   "source": [
    "df = df[df['hour'].isin(['12','13','14','15','16','17'])]"
   ]
  },
  {
   "cell_type": "code",
   "execution_count": 162,
   "metadata": {
    "collapsed": true
   },
   "outputs": [],
   "source": [
    "df = df[df['hour'].isin(['18','19','20'])]"
   ]
  },
  {
   "cell_type": "code",
   "execution_count": 166,
   "metadata": {
    "collapsed": true
   },
   "outputs": [],
   "source": [
    "df = df[df['hour'].isin(['21','22','23'])]"
   ]
  },
  {
   "cell_type": "code",
   "execution_count": 167,
   "metadata": {
    "collapsed": true
   },
   "outputs": [],
   "source": [
    "Y_test = df['Actual'].values\n",
    "Y_pred = df['Predicted'].values\n",
    "MAPE = []\n",
    "ME = []\n",
    "for i in range(len(Y_test)):\n",
    "    ME.append(float(Y_pred[i])- Y_test[i])\n",
    "    if (Y_pred[i] - Y_test[i]) == 0:\n",
    "        MAPE.append(0)\n",
    "    elif Y_test[i] == 0:\n",
    "        MAPE.append(1)\n",
    "    else:\n",
    "        MAPE.append(abs((Y_pred[i] - Y_test[i])/Y_test[i]))"
   ]
  },
  {
   "cell_type": "code",
   "execution_count": 168,
   "metadata": {
    "collapsed": false
   },
   "outputs": [
    {
     "name": "stdout",
     "output_type": "stream",
     "text": [
      "MAE =  12.5831269841\n",
      "RMSE =  17.1030834874\n",
      "r2 = -0.670970201436\n",
      "MAPE 4.56975897434\n",
      "ME =  6.60347619048\n"
     ]
    }
   ],
   "source": [
    "from sklearn.metrics import mean_absolute_error,mean_squared_error,r2_score\n",
    "print \"MAE = \", mean_absolute_error(Y_test,Y_pred)\n",
    "print \"RMSE = \",(mean_squared_error(Y_test,Y_pred))**0.5\n",
    "print \"r2 =\", r2_score(Y_test,Y_pred)\n",
    "print \"MAPE\",sum(MAPE)/len(Y_pred)\n",
    "print \"ME = \",sum(ME)/len(Y_pred)"
   ]
  },
  {
   "cell_type": "markdown",
   "metadata": {},
   "source": [
    "# Phase 2 program aggregate to program segment "
   ]
  },
  {
   "cell_type": "markdown",
   "metadata": {},
   "source": [
    "## Training model\n"
   ]
  },
  {
   "cell_type": "code",
   "execution_count": 105,
   "metadata": {
    "collapsed": false
   },
   "outputs": [],
   "source": [
    "df_train_P2 = df_train[:]\n",
    "#df_train_false.Level= df_train_false.Level.astype(str)\n",
    "#Dropping true Flag values\n",
    "df_train_P2 = df_train_P2[df_train_P2.EvType != 'Ad Break']\n",
    "df_train_P2 = df_train_P2[df_train_P2.EvType != 'Promo']\n",
    "df_train_P2 = df_train_P2[df_train_P2.ProgrammeTheme != 'Teleshopping']\n",
    "\n",
    "\n",
    "df_train_P2.StartTime= df_train_P2.StartTime.astype(str)\n",
    "df_train_P2.EndTime= df_train_P2.EndTime.astype(str)\n",
    "df_train_P2.Level= df_train_P2.Level.astype(str)\n",
    "#StartTime Dealing\n",
    "Starttime = df_train_P2['StartTime'].values\n",
    "for i in range(len(df_train_P2['StartTime'].values)):\n",
    "    if len(df_train_P2['StartTime'].values[i].split()) == 2:     \n",
    "        Starttime[i] =  df_train_P2['StartTime'].values[i].split()[1]\n",
    "df_train_P2['StartTime'] = Starttime #------------------------------------------------------------------------------------------Start time\n",
    "EndTime = df_train_P2['EndTime'].values\n",
    "for i in range(len(df_train_P2['EndTime'].values)):\n",
    "    if len(df_train_P2['EndTime'].values[i].split()) == 2:     \n",
    "        EndTime[i] =  df_train_P2['EndTime'].values[i].split()[1]\n",
    "df_train_P2['EndTime'] = EndTime #------------------------------------------------------------------------------------------Start time\n",
    "\n",
    "df_train_P2['ST'] = [map(int,i.split(':'))[0]+ map(int,i.split(':'))[1]/60.0+map(int,i.split(':'))[1]/3600.0 for i in df_train_P2['StartTime'].values]\n",
    "\n",
    "#Prior and Subsequent programs \n",
    "priorProgram = []\n",
    "subsequentProgram = []\n",
    "priorstarttime = []\n",
    "priorendtime = []\n",
    "subsequentstarttime = []\n",
    "subsequentendtime = []\n",
    "for i in range(int(len(df_train_P2['Level'].values))):\n",
    "    if df_train_P2['Level'].values[i] == 'True':\n",
    "        for j in range(i,-1,-1):\n",
    "            if df_train_P2['Level'].values[j] == 'False':\n",
    "                priorProgram.append(df_train_P2['Impressions'].values[j])\n",
    "                priorstarttime.append(df_train_P2['StartTime'].values[j])\n",
    "                priorendtime.append(df_train_P2['EndTime'].values[j])\n",
    "                break\n",
    "                \n",
    "for i in range(int(len(df_train_P2['Level'].values))):\n",
    "    if df_train_P2['Level'].values[i] == 'True':\n",
    "        for j in range(i,int(len(df_train_P2['EvType'].values))):\n",
    "            if df_train_P2['Level'].values[j] == 'False':\n",
    "                subsequentProgram.append(df_train_P2['Impressions'].values[j])\n",
    "                subsequentstarttime.append(df_train_P2['StartTime'].values[j])\n",
    "                subsequentendtime.append(df_train_P2['EndTime'].values[j])\n",
    "                break\n",
    "\n",
    "                \n",
    "df_train_P2 = df_train_P2[df_train_P2.Level != 'False']\n",
    "df_train_P2['priorProgram'] = priorProgram #-------------------------------------------------Priorprograms---------->\n",
    "df_train_P2['subsequentProgram'] =  subsequentProgram#--------------------------------------subprograms--------->\n",
    "df_train_P2['priorstarttime'] = priorstarttime\n",
    "df_train_P2['priorendtime'] =  priorendtime\n",
    "df_train_P2['subsequentstarttime'] =  subsequentstarttime\n",
    "df_train_P2['subsequentendtime'] =  subsequentendtime\n",
    "df_train_P2  = df_train_P2[df_train_P2.priorProgram.notnull()]\n",
    "df_train_P2  = df_train_P2[df_train_P2.subsequentProgram.notnull()]\n",
    "\n",
    "\n",
    "df_train_P2.Length= df_train_P2.Length.astype(str)\n",
    "df_train_P2.StartTime= df_train_P2.StartTime.astype(str)\n",
    "df_train_P2.priorstarttime= df_train_P2.priorstarttime.astype(str)\n",
    "df_train_P2.priorendtime= df_train_P2.priorendtime.astype(str)\n",
    "df_train_P2.subsequentstarttime= df_train_P2.subsequentstarttime.astype(str)\n",
    "df_train_P2.subsequentendtime= df_train_P2.subsequentendtime.astype(str)\n",
    "ftr = [3600,60,1]\n",
    "leng_seconds = [int(sum([a*b for a,b in zip(ftr, map(int,i.split(':')))])) for i in df_train_P2['Length'].values]\n",
    "df_train_P2['Length'] = leng_seconds#----------------------------------------------------------------------------------len in Seconds----------------->\n",
    "StartTime_seconds = [int(sum([a*b for a,b in zip(ftr, map(int,i.split(':')))])) for i in df_train_P2['StartTime'].values]\n",
    "df_train_P2['StartTime'] = StartTime_seconds#----------------------------------------------------------------------------------start time in Seconds----------------->\n",
    "EndTime_seconds = [int(sum([a*b for a,b in zip(ftr, map(int,i.split(':')))])) for i in df_train_P2['EndTime'].values]\n",
    "df_train_P2['EndTime'] = EndTime_seconds#----------------------------------------------------------------------------------start time in Seconds----------------->\n",
    "priorstarttime_seconds = [int(sum([a*b for a,b in zip(ftr, map(int,i.split(':')))])) for i in df_train_P2['priorstarttime'].values]\n",
    "df_train_P2['priorstarttime'] = priorstarttime_seconds#----------------------------------------------------------------------------------start time in Seconds----------------->\n",
    "priorendtime_seconds = [int(sum([a*b for a,b in zip(ftr, map(int,i.split(':')))])) for i in df_train_P2['priorendtime'].values]\n",
    "df_train_P2['priorendtime'] = priorendtime_seconds\n",
    "subsequentstarttime_seconds = [int(sum([a*b for a,b in zip(ftr, map(int,i.split(':')))])) for i in df_train_P2['subsequentstarttime'].values]\n",
    "df_train_P2['subsequentstarttime'] = subsequentstarttime_seconds\n",
    "subsequentendtime_seconds = [int(sum([a*b for a,b in zip(ftr, map(int,i.split(':')))])) for i in df_train_P2['subsequentendtime'].values]\n",
    "df_train_P2['subsequentendtime'] = subsequentendtime_seconds\n",
    "\n",
    "L_1 = []\n",
    "L_2 = []\n",
    "for i in range(len(df_train_P2['subsequentProgram'].values)):\n",
    "    L_1.append(abs(df_train_P2['StartTime'].values[i] - df_train_P2['priorstarttime'].values[i]))\n",
    "    L_2.append(abs(df_train_P2['priorendtime'].values[i] - df_train_P2['EndTime'].values[i]))\n",
    "df_train_P2['L_1'] = L_1\n",
    "df_train_P2['L_2'] = L_2\n",
    "\n",
    "X_train_2 = []\n",
    "Y_train_21 = []\n",
    "Y_train_22 = []\n",
    "for i in range(len(df_train_P2['priorProgram'].values)):\n",
    "    X_train_2.append([df_train_P2['priorProgram'].values[i],df_train_P2['ST'].values[i],df_train_P2['subsequentProgram'].values[i],df_train_P2['L_1'].values[i],df_train_P2['L_2'].values[i]])\n",
    "    Y_train_21.append(df_train_P2['Impressions'].values[i])\n",
    "    Y_train_22.append(df_train_P2['Impressions1'].values[i])"
   ]
  },
  {
   "cell_type": "markdown",
   "metadata": {},
   "source": [
    "## Testing model"
   ]
  },
  {
   "cell_type": "code",
   "execution_count": 106,
   "metadata": {
    "collapsed": true
   },
   "outputs": [],
   "source": [
    "df_test_P2 = df_test[:]\n",
    "#df_test_false.Level= df_test_false.Level.astype(str)\n",
    "#Dropping true Flag values\n",
    "df_test_P2 = df_test_P2[df_test_P2.EvType != 'Ad Break']\n",
    "df_test_P2 = df_test_P2[df_test_P2.EvType != 'Promo']\n",
    "df_test_P2 = df_test_P2[df_test_P2.ProgrammeTheme != 'Teleshopping']\n",
    "\n",
    "\n",
    "df_test_P2.StartTime= df_test_P2.StartTime.astype(str)\n",
    "df_test_P2.EndTime= df_test_P2.EndTime.astype(str)\n",
    "df_test_P2.Level= df_test_P2.Level.astype(str)\n",
    "#StartTime Dealing\n",
    "Starttime = df_test_P2['StartTime'].values\n",
    "for i in range(len(df_test_P2['StartTime'].values)):\n",
    "    if len(df_test_P2['StartTime'].values[i].split()) == 2:     \n",
    "        Starttime[i] =  df_test_P2['StartTime'].values[i].split()[1]\n",
    "df_test_P2['StartTime'] = Starttime #------------------------------------------------------------------------------------------Start time\n",
    "EndTime = df_test_P2['EndTime'].values\n",
    "for i in range(len(df_test_P2['EndTime'].values)):\n",
    "    if len(df_test_P2['EndTime'].values[i].split()) == 2:     \n",
    "        EndTime[i] =  df_test_P2['EndTime'].values[i].split()[1]\n",
    "df_test_P2['EndTime'] = EndTime #------------------------------------------------------------------------------------------Start time\n",
    "df_test_P2['ST'] = [map(int,i.split(':'))[0]+ map(int,i.split(':'))[1]/60.0+map(int,i.split(':'))[1]/3600.0 for i in df_test_P2['StartTime'].values]\n",
    "\n",
    "\n",
    "#Prior and Subsequent programs \n",
    "priorProgram = []\n",
    "subsequentProgram = []\n",
    "priorstarttime = []\n",
    "priorendtime = []\n",
    "subsequentstarttime = []\n",
    "subsequentendtime = []\n",
    "for i in range(int(len(df_test_P2['Level'].values))):\n",
    "    if df_test_P2['Level'].values[i] == 'True':\n",
    "        for j in range(i,-1,-1):\n",
    "            if df_test_P2['Level'].values[j] == 'False':\n",
    "                priorProgram.append(df_test_P2['Impressions'].values[j])\n",
    "                priorstarttime.append(df_test_P2['StartTime'].values[j])\n",
    "                priorendtime.append(df_test_P2['EndTime'].values[j])\n",
    "                break\n",
    "                \n",
    "for i in range(int(len(df_test_P2['Level'].values))):\n",
    "    if df_test_P2['Level'].values[i] == 'True':\n",
    "        for j in range(i,int(len(df_test_P2['EvType'].values))):\n",
    "            if df_test_P2['Level'].values[j] == 'False':\n",
    "                subsequentProgram.append(df_test_P2['Impressions'].values[j])\n",
    "                subsequentstarttime.append(df_test_P2['StartTime'].values[j])\n",
    "                subsequentendtime.append(df_test_P2['EndTime'].values[j])\n",
    "                break\n",
    "\n",
    "                \n",
    "df_test_P2 = df_test_P2[df_test_P2.Level != 'False']\n",
    "df_test_P2['priorProgram'] = priorProgram #-------------------------------------------------Priorprograms---------->\n",
    "df_test_P2['subsequentProgram'] =  subsequentProgram#--------------------------------------subprograms--------->\n",
    "df_test_P2['priorstarttime'] = priorstarttime\n",
    "df_test_P2['priorendtime'] =  priorendtime\n",
    "df_test_P2['subsequentstarttime'] =  subsequentstarttime\n",
    "df_test_P2['subsequentendtime'] =  subsequentendtime\n",
    "df_test_P2  = df_test_P2[df_test_P2.priorProgram.notnull()]\n",
    "df_test_P2  = df_test_P2[df_test_P2.subsequentProgram.notnull()]\n",
    "\n",
    "\n",
    "df_test_P2.Length= df_test_P2.Length.astype(str)\n",
    "df_test_P2.StartTime= df_test_P2.StartTime.astype(str)\n",
    "df_test_P2.priorstarttime= df_test_P2.priorstarttime.astype(str)\n",
    "df_test_P2.priorendtime= df_test_P2.priorendtime.astype(str)\n",
    "df_test_P2.subsequentstarttime= df_test_P2.subsequentstarttime.astype(str)\n",
    "df_test_P2.subsequentendtime= df_test_P2.subsequentendtime.astype(str)\n",
    "ftr = [3600,60,1]\n",
    "leng_seconds = [int(sum([a*b for a,b in zip(ftr, map(int,i.split(':')))])) for i in df_test_P2['Length'].values]\n",
    "df_test_P2['Length'] = leng_seconds#----------------------------------------------------------------------------------len in Seconds----------------->\n",
    "StartTime_seconds = [int(sum([a*b for a,b in zip(ftr, map(int,i.split(':')))])) for i in df_test_P2['StartTime'].values]\n",
    "df_test_P2['StartTime'] = StartTime_seconds#----------------------------------------------------------------------------------start time in Seconds----------------->\n",
    "EndTime_seconds = [int(sum([a*b for a,b in zip(ftr, map(int,i.split(':')))])) for i in df_test_P2['EndTime'].values]\n",
    "df_test_P2['EndTime'] = EndTime_seconds#----------------------------------------------------------------------------------start time in Seconds----------------->\n",
    "priorstarttime_seconds = [int(sum([a*b for a,b in zip(ftr, map(int,i.split(':')))])) for i in df_test_P2['priorstarttime'].values]\n",
    "df_test_P2['priorstarttime'] = priorstarttime_seconds#----------------------------------------------------------------------------------start time in Seconds----------------->\n",
    "priorendtime_seconds = [int(sum([a*b for a,b in zip(ftr, map(int,i.split(':')))])) for i in df_test_P2['priorendtime'].values]\n",
    "df_test_P2['priorendtime'] = priorendtime_seconds\n",
    "subsequentstarttime_seconds = [int(sum([a*b for a,b in zip(ftr, map(int,i.split(':')))])) for i in df_test_P2['subsequentstarttime'].values]\n",
    "df_test_P2['subsequentstarttime'] = subsequentstarttime_seconds\n",
    "subsequentendtime_seconds = [int(sum([a*b for a,b in zip(ftr, map(int,i.split(':')))])) for i in df_test_P2['subsequentendtime'].values]\n",
    "df_test_P2['subsequentendtime'] = subsequentendtime_seconds\n",
    "\n",
    "L_1 = []\n",
    "L_2 = []\n",
    "for i in range(len(df_test_P2['subsequentProgram'].values)):\n",
    "    L_1.append(abs(df_test_P2['StartTime'].values[i] - df_test_P2['priorstarttime'].values[i]))\n",
    "    L_2.append(abs(df_test_P2['priorendtime'].values[i] - df_test_P2['EndTime'].values[i]))\n",
    "df_test_P2['L_1'] = L_1\n",
    "df_test_P2['L_2'] = L_2\n",
    "\n",
    "X_test_2 = []\n",
    "Y_test_21 = []\n",
    "Y_test_22 = []\n",
    "for i in range(len(df_test_P2['priorProgram'].values)):\n",
    "    X_test_2.append([df_test_P2['priorProgram'].values[i],df_test_P2['ST'].values[i],df_test_P2['subsequentProgram'].values[i],df_test_P2['L_1'].values[i],df_test_P2['L_2'].values[i]])\n",
    "    Y_test_21.append(df_test_P2['Impressions'].values[i])\n",
    "    Y_test_22.append(df_test_P2['Impressions1'].values[i])"
   ]
  },
  {
   "cell_type": "code",
   "execution_count": 110,
   "metadata": {
    "collapsed": false
   },
   "outputs": [],
   "source": [
    "from sklearn.linear_model import LinearRegression\n",
    "reg21 = LinearRegression()\n",
    "reg22 = LinearRegression()\n",
    "reg21.fit(X_train_2,Y_train_21)\n",
    "reg22.fit(X_train_2,Y_train_22)\n",
    "Y_pred_21 = reg21.predict(X_test_2)\n",
    "Y_pred_22 = reg22.predict(X_test_2)"
   ]
  },
  {
   "cell_type": "code",
   "execution_count": null,
   "metadata": {
    "collapsed": false
   },
   "outputs": [],
   "source": [
    "len(Y_pred_21)"
   ]
  },
  {
   "cell_type": "code",
   "execution_count": null,
   "metadata": {
    "collapsed": false
   },
   "outputs": [],
   "source": [
    "df_test_P2['Actual_4+'] = Y_test_21\n",
    "df_test_P2['predicted_4+'] = Y_pred_21\n",
    "df_test_P2['Actual_HSM'] = Y_test_22\n",
    "df_test_P2['predicted_HSM'] = Y_pred_22\n",
    "df_test_P2['Date'] = df_test_P2['Date']\n",
    "df = df_test_P2[[ 'Date','Actual_4+','predicted_4+','Actual_HSM','predicted_HSM']]\n",
    "from pandas import ExcelWriter\n",
    "writer = ExcelWriter('MTV_P2.xlsx')\n",
    "df.to_excel(writer,'Sheet1')\n",
    "writer.save()"
   ]
  },
  {
   "cell_type": "code",
   "execution_count": 111,
   "metadata": {
    "collapsed": false
   },
   "outputs": [],
   "source": [
    "MAPE = []\n",
    "for i in range(len(Y_test_22)):\n",
    "    ME.append(Y_pred_22[i] - Y_test_22[i])\n",
    "    if (Y_pred_22[i] - Y_test_22[i]) == 0:\n",
    "        MAPE.append(0)\n",
    "    elif Y_test_22[i] == 0:\n",
    "        MAPE.append(1)\n",
    "    else:\n",
    "        MAPE.append(abs((Y_pred_22[i] - Y_test_22[i])/Y_test_22[i]))"
   ]
  },
  {
   "cell_type": "code",
   "execution_count": 112,
   "metadata": {
    "collapsed": false
   },
   "outputs": [
    {
     "name": "stdout",
     "output_type": "stream",
     "text": [
      "20.816149853\n",
      "28.3911702836\n",
      "0.245453492156\n",
      "4.13574803919\n",
      "12.3727710841\n"
     ]
    }
   ],
   "source": [
    "from sklearn.metrics import mean_absolute_error,mean_squared_error,r2_score\n",
    "print mean_absolute_error(Y_test_22,Y_pred_22)\n",
    "print (mean_squared_error(Y_test_22,Y_pred_22))**0.5\n",
    "print r2_score(Y_test_22,Y_pred_22)\n",
    "print sum(MAPE)/len(Y_test_22)\n",
    "print sum(ME)/len(Y_test_22)"
   ]
  },
  {
   "cell_type": "markdown",
   "metadata": {},
   "source": [
    "# Phase3, Program segment to promo level"
   ]
  },
  {
   "cell_type": "markdown",
   "metadata": {},
   "source": [
    "## Training the data "
   ]
  },
  {
   "cell_type": "code",
   "execution_count": 113,
   "metadata": {
    "collapsed": false
   },
   "outputs": [],
   "source": [
    "df_train_P3 = df_train[:]\n",
    "df_train_P3 = df_train_P3[df_train_P3.Level != False]\n",
    "df_train_P3 =  df_train_P3[df_train_P3.EvType != 'Ad Break']\n",
    "df_train_P3 =  df_train_P3[df_train_P3.ProgrammeTheme != 'Teleshopping']"
   ]
  },
  {
   "cell_type": "code",
   "execution_count": 114,
   "metadata": {
    "collapsed": false
   },
   "outputs": [],
   "source": [
    "\n",
    "################################################################\n",
    "df_train_P3.StartTime= df_train_P3.StartTime.astype(str)\n",
    "df_train_P3.EndTime= df_train_P3.EndTime.astype(str)\n",
    "#StartTime Dealing\n",
    "Starttime = df_train_P3['StartTime'].values\n",
    "for i in range(len(df_train_P3['StartTime'].values)):\n",
    "    if len(df_train_P3['StartTime'].values[i].split()) == 2:     \n",
    "        Starttime[i] =  df_train_P3['StartTime'].values[i].split()[1]\n",
    "df_train_P3['StartTime'] = Starttime #------------------------------------------------------------------------------------------Start time\n",
    "\n",
    "EndTime = df_train_P3['EndTime'].values\n",
    "for i in range(len(df_train_P3['EndTime'].values)):\n",
    "    if len(df_train_P3['EndTime'].values[i].split()) == 2:     \n",
    "        EndTime[i] =  df_train_P3['EndTime'].values[i].split()[1]\n",
    "df_train_P3['EndTime'] = EndTime #------------------------------------------------------------------------------------------Start time\n",
    "\n",
    "\n",
    "#Prior and Subsequent programs \n",
    "priorProgram = []\n",
    "subsequentProgram = []\n",
    "priorstarttime = []\n",
    "priorendtime = []\n",
    "subsequentstarttime = []\n",
    "subsequentendtime = []\n",
    "#df_CH['EvType'].values\n",
    "for i in range(int(len(df_train_P3['EvType'].values))):\n",
    "    if df_train_P3['EvType'].values[i] == 'Promo':\n",
    "        for j in range(i,-1,-1):\n",
    "            if df_train_P3['EvType'].values[j] == 'Program':\n",
    "                priorProgram.append(df_train_P3['Impressions'].values[j])\n",
    "                priorstarttime.append(df_train_P3['StartTime'].values[j])\n",
    "                priorendtime.append(df_train_P3['EndTime'].values[j])\n",
    "                break\n",
    "for i in range(int(len(df_train_P3['EvType'].values))):\n",
    "    if df_train_P3['EvType'].values[i] == 'Promo':\n",
    "        for j in range(i,int(len(df_train_P3['EvType'].values))):\n",
    "            if df_train_P3['EvType'].values[j] == 'Program':\n",
    "                subsequentProgram.append(df_train_P3['Impressions'].values[j])\n",
    "                subsequentstarttime.append(df_train_P3['StartTime'].values[j])\n",
    "                subsequentendtime.append(df_train_P3['EndTime'].values[j])\n",
    "                break\n",
    "\n",
    "                \n",
    "df_train_P3 = df_train_P3[df_train_P3.EvType != 'Program']\n",
    "df_train_P3['priorProgram'] = priorProgram #-------------------------------------------------Priorprograms---------->\n",
    "df_train_P3['subsequentProgram'] =  subsequentProgram#--------------------------------------subprograms--------->\n",
    "df_train_P3['priorstarttime'] = priorstarttime\n",
    "df_train_P3['priorendtime'] =  priorendtime\n",
    "df_train_P3['subsequentstarttime'] =  subsequentstarttime\n",
    "df_train_P3['subsequentendtime'] =  subsequentendtime\n",
    "df_train_P3  = df_train_P3[df_train_P3.priorProgram.notnull()]\n",
    "df_train_P3  = df_train_P3[df_train_P3.subsequentProgram.notnull()]  \n",
    "\n",
    "\n",
    "df_train_P3.Length= df_train_P3.Length.astype(str)\n",
    "df_train_P3.StartTime= df_train_P3.StartTime.astype(str)\n",
    "df_train_P3.priorstarttime= df_train_P3.priorstarttime.astype(str)\n",
    "df_train_P3.priorendtime= df_train_P3.priorendtime.astype(str)\n",
    "df_train_P3.subsequentstarttime= df_train_P3.subsequentstarttime.astype(str)\n",
    "df_train_P3.subsequentendtime= df_train_P3.subsequentendtime.astype(str)\n",
    "ftr = [3600,60,1]\n",
    "leng_seconds = [int(sum([a*b for a,b in zip(ftr, map(int,i.split(':')))])) for i in df_train_P3['Length'].values]\n",
    "df_train_P3['Length'] = leng_seconds#----------------------------------------------------------------------------------len in Seconds----------------->\n",
    "StartTime_seconds = [int(sum([a*b for a,b in zip(ftr, map(int,i.split(':')))])) for i in df_train_P3['StartTime'].values]\n",
    "df_train_P3['StartTime'] = StartTime_seconds#----------------------------------------------------------------------------------start time in Seconds----------------->\n",
    "EndTime_seconds = [int(sum([a*b for a,b in zip(ftr, map(int,i.split(':')))])) for i in df_train_P3['EndTime'].values]\n",
    "df_train_P3['EndTime'] = EndTime_seconds#----------------------------------------------------------------------------------start time in Seconds----------------->\n",
    "priorstarttime_seconds = [int(sum([a*b for a,b in zip(ftr, map(int,i.split(':')))])) for i in df_train_P3['priorstarttime'].values]\n",
    "df_train_P3['priorstarttime'] = priorstarttime_seconds#----------------------------------------------------------------------------------start time in Seconds----------------->\n",
    "priorendtime_seconds = [int(sum([a*b for a,b in zip(ftr, map(int,i.split(':')))])) for i in df_train_P3['priorendtime'].values]\n",
    "df_train_P3['priorendtime'] = priorendtime_seconds\n",
    "subsequentstarttime_seconds = [int(sum([a*b for a,b in zip(ftr, map(int,i.split(':')))])) for i in df_train_P3['subsequentstarttime'].values]\n",
    "df_train_P3['subsequentstarttime'] = subsequentstarttime_seconds\n",
    "subsequentendtime_seconds = [int(sum([a*b for a,b in zip(ftr, map(int,i.split(':')))])) for i in df_train_P3['subsequentendtime'].values]\n",
    "df_train_P3['subsequentendtime'] = subsequentendtime_seconds\n",
    "\n",
    "\n",
    "\n",
    "\n",
    "L_1 = []\n",
    "L_2 = []\n",
    "for i in range(len(df_train_P3['subsequentProgram'].values)):\n",
    "    L_1.append(df_train_P3['StartTime'].values[i] - df_train_P3['priorendtime'].values[i])\n",
    "    L_2.append(df_train_P3['subsequentstarttime'].values[i] - df_train_P3['EndTime'].values[i])\n",
    "df_train_P3['L_1'] = L_1\n",
    "df_train_P3['L_2'] = L_2\n",
    "\n",
    "\n",
    "\n",
    "X_train_3 = []\n",
    "Y_train_31 = []\n",
    "Y_train_32 = []\n",
    "for i in range(len(priorProgram)):\n",
    "    X_train_3.append([df_train_P3['priorProgram'].values[i],df_train_P3['Length'].values[i],df_train_P3['subsequentProgram'].values[i],df_train_P3['L_1'].values[i],df_train_P3['L_2'].values[i]])\n",
    "    Y_train_31.append(df_train_P3['Impressions'].values[i])\n",
    "    Y_train_32.append(df_train_P3['Impressions1'].values[i])\n",
    "    "
   ]
  },
  {
   "cell_type": "markdown",
   "metadata": {},
   "source": [
    "## Testing"
   ]
  },
  {
   "cell_type": "code",
   "execution_count": 115,
   "metadata": {
    "collapsed": false
   },
   "outputs": [],
   "source": [
    "df_test_P3 = df_test[:]\n",
    "df_test_P3 = df_test_P3[df_test_P3.Level != False]\n",
    "df_test_P3 =  df_test_P3[df_test_P3.EvType != 'Ad Break']\n",
    "df_test_P3 =  df_test_P3[df_test_P3.ProgrammeTheme != 'Teleshopping']"
   ]
  },
  {
   "cell_type": "code",
   "execution_count": 116,
   "metadata": {
    "collapsed": false
   },
   "outputs": [],
   "source": [
    "\n",
    "################################################################\n",
    "df_test_P3.StartTime= df_test_P3.StartTime.astype(str)\n",
    "df_test_P3.EndTime= df_test_P3.EndTime.astype(str)\n",
    "#StartTime Dealing\n",
    "Starttime = df_test_P3['StartTime'].values\n",
    "for i in range(len(df_test_P3['StartTime'].values)):\n",
    "    if len(df_test_P3['StartTime'].values[i].split()) == 2:     \n",
    "        Starttime[i] =  df_test_P3['StartTime'].values[i].split()[1]\n",
    "df_test_P3['StartTime'] = Starttime #------------------------------------------------------------------------------------------Start time\n",
    "\n",
    "EndTime = df_test_P3['EndTime'].values\n",
    "for i in range(len(df_test_P3['EndTime'].values)):\n",
    "    if len(df_test_P3['EndTime'].values[i].split()) == 2:     \n",
    "        EndTime[i] =  df_test_P3['EndTime'].values[i].split()[1]\n",
    "df_test_P3['EndTime'] = EndTime #-----------------------------------------------------------------------------------------------End time\n",
    "\n",
    "\n",
    "#Prior and Subsequent programs \n",
    "priorProgram = []\n",
    "subsequentProgram = []\n",
    "priorstarttime = []\n",
    "priorendtime = []\n",
    "subsequentstarttime = []\n",
    "subsequentendtime = []\n",
    "#df_CH['EvType'].values\n",
    "for i in range(int(len(df_test_P3['EvType'].values))):\n",
    "    if df_test_P3['EvType'].values[i] == 'Promo':\n",
    "        for j in range(i,-1,-1):\n",
    "            if df_test_P3['EvType'].values[j] == 'Program':\n",
    "                priorProgram.append(df_test_P3['Impressions'].values[j])\n",
    "                priorstarttime.append(df_test_P3['StartTime'].values[j])\n",
    "                priorendtime.append(df_test_P3['EndTime'].values[j])\n",
    "                break\n",
    "for i in range(int(len(df_test_P3['EvType'].values))):\n",
    "    if df_test_P3['EvType'].values[i] == 'Promo':\n",
    "        for j in range(i,int(len(df_test_P3['EvType'].values))):\n",
    "            if df_test_P3['EvType'].values[j] == 'Program':\n",
    "                subsequentProgram.append(df_test_P3['Impressions'].values[j])\n",
    "                subsequentstarttime.append(df_test_P3['StartTime'].values[j])\n",
    "                subsequentendtime.append(df_test_P3['EndTime'].values[j])\n",
    "                break\n",
    "\n",
    "                \n",
    "df_test_P3 = df_test_P3[df_test_P3.EvType != 'Program']\n",
    "df_test_P3['priorProgram'] = priorProgram #-------------------------------------------------Priorprograms---------->\n",
    "df_test_P3['subsequentProgram'] =  subsequentProgram#--------------------------------------subprograms--------->\n",
    "df_test_P3['priorstarttime'] = priorstarttime\n",
    "df_test_P3['priorendtime'] =  priorendtime\n",
    "df_test_P3['subsequentstarttime'] =  subsequentstarttime\n",
    "df_test_P3['subsequentendtime'] =  subsequentendtime\n",
    "df_test_P3  = df_test_P3[df_test_P3.priorProgram.notnull()]\n",
    "df_test_P3  = df_test_P3[df_test_P3.subsequentProgram.notnull()]  \n",
    "\n",
    "\n",
    "df_test_P3.Length= df_test_P3.Length.astype(str)\n",
    "df_test_P3.StartTime= df_test_P3.StartTime.astype(str)\n",
    "df_test_P3.priorstarttime= df_test_P3.priorstarttime.astype(str)\n",
    "df_test_P3.priorendtime= df_test_P3.priorendtime.astype(str)\n",
    "df_test_P3.subsequentstarttime= df_test_P3.subsequentstarttime.astype(str)\n",
    "df_test_P3.subsequentendtime= df_test_P3.subsequentendtime.astype(str)\n",
    "ftr = [3600,60,1]\n",
    "leng_seconds = [int(sum([a*b for a,b in zip(ftr, map(int,i.split(':')))])) for i in df_test_P3['Length'].values]\n",
    "df_test_P3['Length'] = leng_seconds#----------------------------------------------------------------------------------len in Seconds----------------->\n",
    "StartTime_seconds = [int(sum([a*b for a,b in zip(ftr, map(int,i.split(':')))])) for i in df_test_P3['StartTime'].values]\n",
    "df_test_P3['StartTime'] = StartTime_seconds#----------------------------------------------------------------------------------start time in Seconds----------------->\n",
    "EndTime_seconds = [int(sum([a*b for a,b in zip(ftr, map(int,i.split(':')))])) for i in df_test_P3['EndTime'].values]\n",
    "df_test_P3['EndTime'] = EndTime_seconds#----------------------------------------------------------------------------------start time in Seconds----------------->\n",
    "priorstarttime_seconds = [int(sum([a*b for a,b in zip(ftr, map(int,i.split(':')))])) for i in df_test_P3['priorstarttime'].values]\n",
    "df_test_P3['priorstarttime'] = priorstarttime_seconds#----------------------------------------------------------------------------------start time in Seconds----------------->\n",
    "priorendtime_seconds = [int(sum([a*b for a,b in zip(ftr, map(int,i.split(':')))])) for i in df_test_P3['priorendtime'].values]\n",
    "df_test_P3['priorendtime'] = priorendtime_seconds\n",
    "subsequentstarttime_seconds = [int(sum([a*b for a,b in zip(ftr, map(int,i.split(':')))])) for i in df_test_P3['subsequentstarttime'].values]\n",
    "df_test_P3['subsequentstarttime'] = subsequentstarttime_seconds\n",
    "subsequentendtime_seconds = [int(sum([a*b for a,b in zip(ftr, map(int,i.split(':')))])) for i in df_test_P3['subsequentendtime'].values]\n",
    "df_test_P3['subsequentendtime'] = subsequentendtime_seconds\n",
    "\n",
    "\n",
    "\n",
    "\n",
    "L_1 = []\n",
    "L_2 = []\n",
    "for i in range(len(df_test_P3['subsequentProgram'].values)):\n",
    "    L_1.append(df_test_P3['StartTime'].values[i] - df_test_P3['priorendtime'].values[i])\n",
    "    L_2.append(df_test_P3['subsequentstarttime'].values[i] - df_test_P3['EndTime'].values[i])\n",
    "df_test_P3['L_1'] = L_1\n",
    "df_test_P3['L_2'] = L_2\n",
    "\n",
    "\n",
    "\n",
    "X_test_3 = []\n",
    "Y_test_31 = []\n",
    "Y_test_32 = []\n",
    "for i in range(len(priorProgram)):\n",
    "    X_test_3.append([df_test_P3['priorProgram'].values[i],df_test_P3['Length'].values[i],df_test_P3['subsequentProgram'].values[i],df_test_P3['L_1'].values[i],df_test_P3['L_2'].values[i]])\n",
    "    Y_test_31.append(df_test_P3['Impressions'].values[i])\n",
    "    Y_test_32.append(df_test_P3['Impressions1'].values[i])\n",
    "    "
   ]
  },
  {
   "cell_type": "code",
   "execution_count": 117,
   "metadata": {
    "collapsed": false
   },
   "outputs": [],
   "source": [
    "from sklearn.linear_model import LinearRegression\n",
    "reg31 = LinearRegression()\n",
    "reg32 = LinearRegression()\n",
    "reg31.fit(X_train_3,Y_train_31)\n",
    "reg32.fit(X_train_3,Y_train_32)\n",
    "Y_pred_31 =  reg31.predict(X_test_3)\n",
    "Y_pred_32 =  reg32.predict(X_test_3)"
   ]
  },
  {
   "cell_type": "code",
   "execution_count": null,
   "metadata": {
    "collapsed": true
   },
   "outputs": [],
   "source": [
    "df_test_P3['Actual_4+'] = Y_test_31\n",
    "df_test_P3['predicted_4+'] = Y_pred_31\n",
    "df_test_P3['Actual_HSM'] = Y_test_32\n",
    "df_test_P3['predicted_HSM'] = Y_pred_32\n",
    "df_test_P3['Date'] = df_test_P3['Date']\n",
    "df = df_test_P3[[ 'Date','Actual_4+','predicted_4+','Actual_HSM','predicted_HSM']]\n",
    "from pandas import ExcelWriter\n",
    "writer = ExcelWriter('MTV_P3.xlsx')\n",
    "df.to_excel(writer,'Sheet1')\n",
    "writer.save()"
   ]
  },
  {
   "cell_type": "code",
   "execution_count": 118,
   "metadata": {
    "collapsed": true
   },
   "outputs": [],
   "source": [
    "MAPE = []\n",
    "ME = []\n",
    "X = []\n",
    "Y = []\n",
    "for i in range(len(Y_test_32)):\n",
    "    ME.append(Y_pred_32[i] - Y_test_32[i])\n",
    "    if (Y_pred_32[i] - Y_test_32[i]) == 0:\n",
    "        MAPE.append(0)\n",
    "    elif Y_test_32[i] == 0:\n",
    "        MAPE.append(1)\n",
    "    else:\n",
    "        MAPE.append(abs((Y_pred_32[i] - Y_test_32[i])/Y_test_32[i]))\n",
    "        "
   ]
  },
  {
   "cell_type": "code",
   "execution_count": 119,
   "metadata": {
    "collapsed": false,
    "scrolled": true
   },
   "outputs": [
    {
     "name": "stdout",
     "output_type": "stream",
     "text": [
      "20.8134500188\n",
      "0.118281379944\n",
      "28.4925268245\n",
      "1.41431075011\n",
      "3.22771205692\n"
     ]
    }
   ],
   "source": [
    "from sklearn.metrics import mean_absolute_error,mean_squared_error,r2_score\n",
    "print mean_absolute_error(Y_test_32,Y_pred_32)\n",
    "print r2_score(Y_test_32,Y_pred_32)\n",
    "print (mean_squared_error(Y_test_32,Y_pred_32))**0.5\n",
    "print sum(MAPE)/len(Y_test_32)\n",
    "print sum(ME)/len(Y_test_32)"
   ]
  },
  {
   "cell_type": "markdown",
   "metadata": {},
   "source": [
    "# bypass Phase Analysis "
   ]
  },
  {
   "cell_type": "code",
   "execution_count": null,
   "metadata": {
    "collapsed": false
   },
   "outputs": [],
   "source": [
    "df_train_bp = df_train[:]\n",
    "df_train_bp =  df_train_bp[df_train_bp.EvType != 'Ad Break']\n",
    "df_train_bp =  df_train_bp[df_train_bp.ProgrammeTheme != 'Teleshopping']\n",
    "################################################################\n",
    "df_train_bp.StartTime= df_train_bp.StartTime.astype(str)\n",
    "df_train_bp.EndTime=   df_train_bp.EndTime.astype(str)\n",
    "#StartTime Dealing\n",
    "Starttime = df_train_bp['StartTime'].values\n",
    "for i in range(len(df_train_bp['StartTime'].values)):\n",
    "    if len(df_train_bp['StartTime'].values[i].split()) == 2:     \n",
    "        Starttime[i] =  df_train_bp['StartTime'].values[i].split()[1]\n",
    "df_train_bp['StartTime'] = Starttime #------------------------------------------------------------------------------------------Start time\n",
    "\n",
    "EndTime = df_train_bp['EndTime'].values\n",
    "for i in range(len(df_train_bp['EndTime'].values)):\n",
    "    if len(df_train_bp['EndTime'].values[i].split()) == 2:     \n",
    "        EndTime[i] =  df_train_bp['EndTime'].values[i].split()[1]\n",
    "df_train_bp['EndTime'] = EndTime #------------------------------------------------------------------------------------------Start time\n",
    "\n",
    "\n",
    "#Prior and Subsequent programs \n",
    "priorProgram = []\n",
    "subsequentProgram = []\n",
    "priorstarttime = []\n",
    "priorendtime = []\n",
    "subsequentstarttime = []\n",
    "subsequentendtime = []\n",
    "#df_CH['EvType'].values\n",
    "for i in range(int(len(df_train_bp['EvType'].values))):\n",
    "    if df_train_bp['EvType'].values[i] == 'Promo':\n",
    "        for j in range(i,-1,-1):\n",
    "            if df_train_bp['Level'].values[j] == False:\n",
    "                priorProgram.append(df_train_bp['Impressions'].values[j])\n",
    "                priorstarttime.append(df_train_bp['StartTime'].values[j])\n",
    "                priorendtime.append(df_train_bp['EndTime'].values[j])\n",
    "                break\n",
    "for i in range(int(len(df_train_bp['EvType'].values))):\n",
    "    if df_train_bp['EvType'].values[i] == 'Promo':\n",
    "        for j in range(i,int(len(df_train_bp['EvType'].values))):\n",
    "            if df_train_bp['Level'].values[j] == False:\n",
    "                subsequentProgram.append(df_train_bp['Impressions'].values[j])\n",
    "                subsequentstarttime.append(df_train_bp['StartTime'].values[j])\n",
    "                subsequentendtime.append(df_train_bp['EndTime'].values[j])\n",
    "                break\n",
    "\n",
    "                \n",
    "df_train_bp =  df_train_bp[df_train_bp.EvType != 'Program']\n",
    "df_train_bp['priorProgram'] = priorProgram #-------------------------------------------------Priorprograms---------->\n",
    "df_train_bp['subsequentProgram'] =  subsequentProgram#--------------------------------------subprograms--------->\n",
    "df_train_bp['priorstarttime'] = priorstarttime\n",
    "df_train_bp['priorendtime'] =  priorendtime\n",
    "df_train_bp['subsequentstarttime'] =  subsequentstarttime\n",
    "df_train_bp['subsequentendtime'] =  subsequentendtime\n",
    "df_train_bp  = df_train_bp[df_train_bp.priorProgram.notnull()]\n",
    "df_train_bp  = df_train_bp[df_train_bp.subsequentProgram.notnull()]  \n",
    "\n",
    "\n",
    "df_train_bp.Length= df_train_bp.Length.astype(str)\n",
    "df_train_bp.StartTime= df_train_bp.StartTime.astype(str)\n",
    "df_train_bp.priorstarttime= df_train_bp.priorstarttime.astype(str)\n",
    "df_train_bp.priorendtime= df_train_bp.priorendtime.astype(str)\n",
    "df_train_bp.subsequentstarttime= df_train_bp.subsequentstarttime.astype(str)\n",
    "df_train_bp.subsequentendtime= df_train_bp.subsequentendtime.astype(str)\n",
    "ftr = [3600,60,1]\n",
    "leng_seconds = [int(sum([a*b for a,b in zip(ftr, map(int,i.split(':')))])) for i in df_train_bp['Length'].values]\n",
    "df_train_bp['Length'] = leng_seconds#----------------------------------------------------------------------------------len in Seconds----------------->\n",
    "StartTime_seconds = [int(sum([a*b for a,b in zip(ftr, map(int,i.split(':')))])) for i in df_train_bp['StartTime'].values]\n",
    "df_train_bp['StartTime'] = StartTime_seconds#----------------------------------------------------------------------------------start time in Seconds----------------->\n",
    "EndTime_seconds = [int(sum([a*b for a,b in zip(ftr, map(int,i.split(':')))])) for i in df_train_bp['EndTime'].values]\n",
    "df_train_bp['EndTime'] = EndTime_seconds#----------------------------------------------------------------------------------start time in Seconds----------------->\n",
    "priorstarttime_seconds = [int(sum([a*b for a,b in zip(ftr, map(int,i.split(':')))])) for i in df_train_bp['priorstarttime'].values]\n",
    "df_train_bp['priorstarttime'] = priorstarttime_seconds#----------------------------------------------------------------------------------start time in Seconds----------------->\n",
    "priorendtime_seconds = [int(sum([a*b for a,b in zip(ftr, map(int,i.split(':')))])) for i in df_train_bp['priorendtime'].values]\n",
    "df_train_bp['priorendtime'] = priorendtime_seconds\n",
    "subsequentstarttime_seconds = [int(sum([a*b for a,b in zip(ftr, map(int,i.split(':')))])) for i in df_train_bp['subsequentstarttime'].values]\n",
    "df_train_bp['subsequentstarttime'] = subsequentstarttime_seconds\n",
    "subsequentendtime_seconds = [int(sum([a*b for a,b in zip(ftr, map(int,i.split(':')))])) for i in df_train_bp['subsequentendtime'].values]\n",
    "df_train_bp['subsequentendtime'] = subsequentendtime_seconds\n",
    "\n",
    "L_1 = []\n",
    "L_2 = []\n",
    "for i in range(len(df_train_bp['subsequentProgram'].values)):\n",
    "    L_1.append(abs(df_train_bp['StartTime'].values[i] - df_train_bp['priorstarttime'].values[i]))\n",
    "    L_2.append(abs(df_train_bp['priorendtime'].values[i] - df_train_bp['EndTime'].values[i]))\n",
    "df_train_bp['L_1'] = L_1\n",
    "df_train_bp['L_2'] = L_2\n",
    "\n",
    "X_train_bp = []\n",
    "Y_train_bp = []\n",
    "for i in range(len(priorProgram)):\n",
    "    X_train_bp.append([df_train_bp['priorProgram'].values[i],df_train_bp['subsequentProgram'].values[i],df_train_bp['L_1'].values[i],df_train_bp['L_2'].values[i]])\n",
    "    Y_train_bp.append(df_train_bp['Impressions'].values[i])\n"
   ]
  },
  {
   "cell_type": "markdown",
   "metadata": {
    "collapsed": true
   },
   "source": [
    "## TESTING"
   ]
  },
  {
   "cell_type": "code",
   "execution_count": null,
   "metadata": {
    "collapsed": true
   },
   "outputs": [],
   "source": [
    "df_test_bp = df_test[:]\n",
    "df_test_bp =  df_test_bp[df_test_bp.EvType != 'Ad Break']\n",
    "df_test_bp =  df_test_bp[df_test_bp.ProgrammeTheme != 'Teleshopping']\n",
    "################################################################\n",
    "df_test_bp.StartTime= df_test_bp.StartTime.astype(str)\n",
    "df_test_bp.EndTime=   df_test_bp.EndTime.astype(str)\n",
    "#StartTime Dealing\n",
    "Starttime = df_test_bp['StartTime'].values\n",
    "for i in range(len(df_test_bp['StartTime'].values)):\n",
    "    if len(df_test_bp['StartTime'].values[i].split()) == 2:     \n",
    "        Starttime[i] =  df_test_bp['StartTime'].values[i].split()[1]\n",
    "df_test_bp['StartTime'] = Starttime #------------------------------------------------------------------------------------------Start time\n",
    "\n",
    "EndTime = df_test_bp['EndTime'].values\n",
    "for i in range(len(df_test_bp['EndTime'].values)):\n",
    "    if len(df_test_bp['EndTime'].values[i].split()) == 2:     \n",
    "        EndTime[i] =  df_test_bp['EndTime'].values[i].split()[1]\n",
    "df_test_bp['EndTime'] = EndTime #------------------------------------------------------------------------------------------Start time\n",
    "\n",
    "\n",
    "#Prior and Subsequent programs \n",
    "priorProgram = []\n",
    "subsequentProgram = []\n",
    "priorstarttime = []\n",
    "priorendtime = []\n",
    "subsequentstarttime = []\n",
    "subsequentendtime = []\n",
    "#df_CH['EvType'].values\n",
    "for i in range(int(len(df_test_bp['EvType'].values))):\n",
    "    if df_test_bp['EvType'].values[i] == 'Promo':\n",
    "        for j in range(i,-1,-1):\n",
    "            if df_test_bp['Level'].values[j] == False:\n",
    "                priorProgram.append(df_test_bp['Impressions'].values[j])\n",
    "                priorstarttime.append(df_test_bp['StartTime'].values[j])\n",
    "                priorendtime.append(df_test_bp['EndTime'].values[j])\n",
    "                break\n",
    "for i in range(int(len(df_test_bp['EvType'].values))):\n",
    "    if df_test_bp['EvType'].values[i] == 'Promo':\n",
    "        for j in range(i,int(len(df_test_bp['EvType'].values))):\n",
    "            if df_test_bp['Level'].values[j] == False:\n",
    "                subsequentProgram.append(df_test_bp['Impressions'].values[j])\n",
    "                subsequentstarttime.append(df_test_bp['StartTime'].values[j])\n",
    "                subsequentendtime.append(df_test_bp['EndTime'].values[j])\n",
    "                break\n",
    "\n",
    "                \n",
    "df_test_bp =  df_test_bp[df_test_bp.EvType != 'Program']\n",
    "df_test_bp['priorProgram'] = priorProgram #-------------------------------------------------Priorprograms---------->\n",
    "df_test_bp['subsequentProgram'] =  subsequentProgram#--------------------------------------subprograms--------->\n",
    "df_test_bp['priorstarttime'] = priorstarttime\n",
    "df_test_bp['priorendtime'] =  priorendtime\n",
    "df_test_bp['subsequentstarttime'] =  subsequentstarttime\n",
    "df_test_bp['subsequentendtime'] =  subsequentendtime\n",
    "df_test_bp  = df_test_bp[df_test_bp.priorProgram.notnull()]\n",
    "df_test_bp  = df_test_bp[df_test_bp.subsequentProgram.notnull()]  \n",
    "\n",
    "\n",
    "df_test_bp.Length= df_test_bp.Length.astype(str)\n",
    "df_test_bp.StartTime= df_test_bp.StartTime.astype(str)\n",
    "df_test_bp.priorstarttime= df_test_bp.priorstarttime.astype(str)\n",
    "df_test_bp.priorendtime= df_test_bp.priorendtime.astype(str)\n",
    "df_test_bp.subsequentstarttime= df_test_bp.subsequentstarttime.astype(str)\n",
    "df_test_bp.subsequentendtime= df_test_bp.subsequentendtime.astype(str)\n",
    "ftr = [3600,60,1]\n",
    "leng_seconds = [int(sum([a*b for a,b in zip(ftr, map(int,i.split(':')))])) for i in df_test_bp['Length'].values]\n",
    "df_test_bp['Length'] = leng_seconds#----------------------------------------------------------------------------------len in Seconds----------------->\n",
    "StartTime_seconds = [int(sum([a*b for a,b in zip(ftr, map(int,i.split(':')))])) for i in df_test_bp['StartTime'].values]\n",
    "df_test_bp['StartTime'] = StartTime_seconds#----------------------------------------------------------------------------------start time in Seconds----------------->\n",
    "EndTime_seconds = [int(sum([a*b for a,b in zip(ftr, map(int,i.split(':')))])) for i in df_test_bp['EndTime'].values]\n",
    "df_test_bp['EndTime'] = EndTime_seconds#----------------------------------------------------------------------------------start time in Seconds----------------->\n",
    "priorstarttime_seconds = [int(sum([a*b for a,b in zip(ftr, map(int,i.split(':')))])) for i in df_test_bp['priorstarttime'].values]\n",
    "df_test_bp['priorstarttime'] = priorstarttime_seconds#----------------------------------------------------------------------------------start time in Seconds----------------->\n",
    "priorendtime_seconds = [int(sum([a*b for a,b in zip(ftr, map(int,i.split(':')))])) for i in df_test_bp['priorendtime'].values]\n",
    "df_test_bp['priorendtime'] = priorendtime_seconds\n",
    "subsequentstarttime_seconds = [int(sum([a*b for a,b in zip(ftr, map(int,i.split(':')))])) for i in df_test_bp['subsequentstarttime'].values]\n",
    "df_test_bp['subsequentstarttime'] = subsequentstarttime_seconds\n",
    "subsequentendtime_seconds = [int(sum([a*b for a,b in zip(ftr, map(int,i.split(':')))])) for i in df_test_bp['subsequentendtime'].values]\n",
    "df_test_bp['subsequentendtime'] = subsequentendtime_seconds\n",
    "\n",
    "L_1 = []\n",
    "L_2 = []\n",
    "for i in range(len(df_test_bp['subsequentProgram'].values)):\n",
    "    L_1.append(abs(df_test_bp['StartTime'].values[i] - df_test_bp['priorstarttime'].values[i]))\n",
    "    L_2.append(abs(df_test_bp['priorendtime'].values[i] - df_test_bp['EndTime'].values[i]))\n",
    "df_test_bp['L_1'] = L_1\n",
    "df_test_bp['L_2'] = L_2\n",
    "\n",
    "X_test_bp = []\n",
    "Y_test_bp = []\n",
    "for i in range(len(priorProgram)):\n",
    "    X_test_bp.append([df_test_bp['priorProgram'].values[i],df_test_bp['subsequentProgram'].values[i],df_test_bp['L_1'].values[i],df_test_bp['L_2'].values[i]])\n",
    "    Y_test_bp.append(df_test_bp['Impressions'].values[i])\n"
   ]
  },
  {
   "cell_type": "code",
   "execution_count": null,
   "metadata": {
    "collapsed": true
   },
   "outputs": [],
   "source": [
    "from sklearn.linear_model import LinearRegression\n",
    "reg = LinearRegression()\n",
    "reg.fit(X_train_bp,Y_train_bp)\n",
    "Y_pred_bp =  reg.predict(X_test_bp)"
   ]
  },
  {
   "cell_type": "code",
   "execution_count": null,
   "metadata": {
    "collapsed": false
   },
   "outputs": [],
   "source": [
    "from sklearn.metrics import r2_score\n",
    "r2_score(Y_test_bp,Y_pred_bp)"
   ]
  },
  {
   "cell_type": "code",
   "execution_count": null,
   "metadata": {
    "collapsed": false
   },
   "outputs": [],
   "source": [
    "from sklearn.metrics import mean_absolute_error,mean_squared_error,r2_score\n",
    "print mean_absolute_error(Y_test_bp,Y_pred_bp)\n",
    "print mean_squared_error(Y_test_bp,Y_pred_bp)\n",
    "print r2_score(Y_test_bp,Y_pred_bp)\n",
    "print (mean_squared_error(Y_test_bp,Y_pred_bp))**0.5"
   ]
  },
  {
   "cell_type": "code",
   "execution_count": null,
   "metadata": {
    "collapsed": false
   },
   "outputs": [],
   "source": [
    "Y_test_bp = np.array(Y_test_bp)\n",
    "1-sum(np.square(Y_test_bp-Y_pred_bp))/sum(np.square(Y_test_bp-Y_test_bp.mean()))"
   ]
  },
  {
   "cell_type": "code",
   "execution_count": null,
   "metadata": {
    "collapsed": true
   },
   "outputs": [],
   "source": []
  },
  {
   "cell_type": "code",
   "execution_count": null,
   "metadata": {
    "collapsed": true
   },
   "outputs": [],
   "source": []
  },
  {
   "cell_type": "markdown",
   "metadata": {
    "collapsed": true
   },
   "source": [
    "# All Phase Analysis"
   ]
  },
  {
   "cell_type": "code",
   "execution_count": null,
   "metadata": {
    "collapsed": true
   },
   "outputs": [],
   "source": [
    "# All phase analysis\n",
    "df = df_test\n",
    "df['Numbers'] = np.arange(len(df))\n",
    "df = df[df.ProgrammeTheme != 'Teleshopping']\n",
    "df = df[df.EvType != 'Ad Break']\n",
    "#del df['Impressions']"
   ]
  },
  {
   "cell_type": "code",
   "execution_count": null,
   "metadata": {
    "collapsed": false
   },
   "outputs": [],
   "source": [
    "df.StartTime= df.StartTime.astype(str)\n",
    "df.EndTime=   df.EndTime.astype(str)\n",
    "#StartTime Dealing\n",
    "Starttime = df['StartTime'].values\n",
    "for i in range(len(df['StartTime'].values)):\n",
    "    if len(df['StartTime'].values[i].split()) == 2:     \n",
    "        Starttime[i] =  df['StartTime'].values[i].split()[1]\n",
    "df['StartTime'] = Starttime #------------------------------------------------------------------------------------------Start time\n",
    "\n",
    "EndTime = df['EndTime'].values\n",
    "for i in range(len(df['EndTime'].values)):\n",
    "    if len(df['EndTime'].values[i].split()) == 2:     \n",
    "        EndTime[i] =  df['EndTime'].values[i].split()[1]\n",
    "df['EndTime'] = EndTime #------------------------------------------------------------------------------------------Start time\n"
   ]
  },
  {
   "cell_type": "code",
   "execution_count": null,
   "metadata": {
    "collapsed": true
   },
   "outputs": [],
   "source": [
    "#Prior and Subsequent programs \n",
    "priorProgram = []\n",
    "subsequentProgram = []\n",
    "priorstarttime = []\n",
    "priorProgramnumber = []\n",
    "subsequentProgramnumber = []\n",
    "priorendtime = []\n",
    "subsequentstarttime = []\n",
    "subsequentendtime = []\n",
    "for i in range(int(len(df['EvType'].values))):\n",
    "    if df['EvType'].values[i] == 'Promo':\n",
    "        for j in range(i,-1,-1):\n",
    "            if df['Level'].values[j] == False:\n",
    "                priorProgram.append(df['Description'].values[j])\n",
    "                priorProgramnumber.append(df['Numbers'].values[j])\n",
    "                priorstarttime.append(df['StartTime'].values[j])\n",
    "                priorendtime.append(df['EndTime'].values[j])\n",
    "                break\n",
    "for i in range(int(len(df['EvType'].values))):\n",
    "    if df['EvType'].values[i] == 'Promo':\n",
    "        for j in range(i,int(len(df['EvType'].values))):\n",
    "            if df['Level'].values[j] == False:\n",
    "                subsequentProgram.append(df['Description'].values[j])\n",
    "                subsequentProgramnumber.append(df['Numbers'].values[j])\n",
    "                subsequentstarttime.append(df['StartTime'].values[j])\n",
    "                subsequentendtime.append(df['EndTime'].values[j])\n",
    "                break"
   ]
  },
  {
   "cell_type": "code",
   "execution_count": null,
   "metadata": {
    "collapsed": false
   },
   "outputs": [],
   "source": [
    "df =  df[df.EvType != 'Program']\n",
    "df['priorProgram'] = priorProgram #-------------------------------------------------Priorprograms---------->\n",
    "df['subsequentProgram'] =  subsequentProgram#--------------------------------------subprograms--------->\n",
    "df['priorstarttime'] = priorstarttime\n",
    "df['priorendtime'] =  priorendtime\n",
    "df['subsequentstarttime'] =  subsequentstarttime\n",
    "df['subsequentendtime'] =  subsequentendtime\n",
    "df['subsequentProgramnumber'] = subsequentProgramnumber\n",
    "df['priorProgramnumber'] = priorProgramnumber\n",
    "df  = df[df.priorProgram.notnull()]\n",
    "df  = df[df.subsequentProgram.notnull()]  "
   ]
  },
  {
   "cell_type": "code",
   "execution_count": null,
   "metadata": {
    "collapsed": false
   },
   "outputs": [],
   "source": [
    "\n",
    "df.Length= df.Length.astype(str)\n",
    "df.StartTime= df.StartTime.astype(str)\n",
    "df.priorstarttime= df.priorstarttime.astype(str)\n",
    "df.priorendtime= df.priorendtime.astype(str)\n",
    "df.subsequentstarttime= df.subsequentstarttime.astype(str)\n",
    "df.subsequentendtime= df.subsequentendtime.astype(str)\n",
    "ftr = [3600,60,1]\n",
    "leng_seconds = [int(sum([a*b for a,b in zip(ftr, map(int,i.split(':')))])) for i in df['Length'].values]\n",
    "df['Length'] = leng_seconds#----------------------------------------------------------------------------------len in Seconds----------------->\n",
    "StartTime_seconds = [int(sum([a*b for a,b in zip(ftr, map(int,i.split(':')))])) for i in df['StartTime'].values]\n",
    "df['StartTime'] = StartTime_seconds#----------------------------------------------------------------------------------start time in Seconds----------------->\n",
    "EndTime_seconds = [int(sum([a*b for a,b in zip(ftr, map(int,i.split(':')))])) for i in df['EndTime'].values]\n",
    "df['EndTime'] = EndTime_seconds#----------------------------------------------------------------------------------start time in Seconds----------------->\n",
    "priorstarttime_seconds = [int(sum([a*b for a,b in zip(ftr, map(int,i.split(':')))])) for i in df['priorstarttime'].values]\n",
    "df['priorstarttime'] = priorstarttime_seconds#----------------------------------------------------------------------------------start time in Seconds----------------->\n",
    "priorendtime_seconds = [int(sum([a*b for a,b in zip(ftr, map(int,i.split(':')))])) for i in df['priorendtime'].values]\n",
    "df['priorendtime'] = priorendtime_seconds\n",
    "subsequentstarttime_seconds = [int(sum([a*b for a,b in zip(ftr, map(int,i.split(':')))])) for i in df['subsequentstarttime'].values]\n",
    "df['subsequentstarttime'] = subsequentstarttime_seconds\n",
    "subsequentendtime_seconds = [int(sum([a*b for a,b in zip(ftr, map(int,i.split(':')))])) for i in df['subsequentendtime'].values]\n",
    "df['subsequentendtime'] = subsequentendtime_seconds\n",
    "\n",
    "L_1 = []\n",
    "L_2 = []\n",
    "for i in range(len(df['subsequentProgram'].values)):\n",
    "    L_1.append(abs(df['StartTime'].values[i] - df['priorstarttime'].values[i]))\n",
    "    L_2.append(abs(df['priorendtime'].values[i] - df['EndTime'].values[i]))\n",
    "df['L_1'] = L_1\n",
    "df['L_2'] = L_2"
   ]
  },
  {
   "cell_type": "code",
   "execution_count": null,
   "metadata": {
    "collapsed": false
   },
   "outputs": [],
   "source": [
    "df_test_false = df_test[:]\n",
    "#df_test_false.Level= df_test_false.Level.astype(str)\n",
    "#Dropping true Flag values\n",
    "df_test_false['Numbers'] = np.arange(len(df_test_false))\n",
    "df_test_false = df_test_false[df_test_false.Level != True]\n",
    "df_test_false = df_test_false[df_test_false.ProgrammeTheme != 'Teleshopping']\n",
    "#deleting unwanted columns\n",
    "del df_test_false['BreakCode']                                  \n",
    "del df_test_false['EvType']\n",
    "del df_test_false['PromoCategory']\n",
    "del df_test_false['PromoType']\n",
    "del df_test_false['EndTime']\n",
    "del df_test_false['Level'] \n",
    "#Taggin 'Movies / Plays' into Movie\n",
    "Description = df_test_false['Description'].values\n",
    "for i in range(len(df_test_false['Description'].values)):\n",
    "    if df_test_false['ProgrammeTheme'].values[i] == 'Movies / Plays':\n",
    "         Description[i] = 'Movies'\n",
    "    if '1 Hour Special' in df_test_false['Description'].values[i]:\n",
    "        Description[i] = df_test_false['Description'].values[i].replace('- 1 Hour Special','').strip()       \n",
    "df_test_false['Description'] = Description\n",
    "\n",
    "#Prior and Subsequent programs \n",
    "priorProgram = []\n",
    "subsequentProgram = []\n",
    "for i in range(1,len(df_test_false['Description'].values)-1):\n",
    "    priorProgram.append(df_test_false['Description'].values[i-1])\n",
    "    subsequentProgram.append(df_test_false['Description'].values[i+1])\n",
    "df_test_false =df_test_false.drop(df_test_false.index[[0]])\n",
    "df_test_false =df_test_false.drop(df_test_false.index[[len(df_test_false['Description'].values)-1]])\n",
    "df_test_false['priorProgram'] = priorProgram \n",
    "df_test_false['subsequentProgram'] =  subsequentProgram\n",
    "\n",
    "Description_classified_prior = df_test_false['priorProgram'].values\n",
    "for i in range(len(df_test_false['priorProgram'].values)):\n",
    "    Description_classified_prior[i] = clu.predict(PI_AVG[df_test_false['priorProgram'].values[i]])[0]\n",
    "Description_classifiedsubsequent =df_test_false['subsequentProgram'].values\n",
    "for i in range(len(df_test_false['subsequentProgram'].values)):\n",
    "    Description_classifiedsubsequent[i] = clu.predict(PI_AVG[df_test_false['subsequentProgram'].values[i]])[0]\n",
    "df_test_false['priorProgram'] = Description_classified_prior\n",
    "df_test_false['subsequentProgram'] = Description_classifiedsubsequent\n",
    "df_test_false.priorProgram= df_test_false.priorProgram.astype(str) \n",
    "df_test_false.subsequentProgram= df_test_false.subsequentProgram.astype(str)\n",
    "\n",
    "#Deleting and string conversion\n",
    "df_test_false.Date = df_test_false.Date.astype(str)                    #Changing the Date as String \n",
    "df_test_false.ProgrammeTheme= df_test_false.ProgrammeTheme.astype(str) #Changing the Programme Theme in String for encoding \n",
    "df_test_false.ProgrammeGenre= df_test_false.ProgrammeGenre.astype(str) #Changing the Programme Gerne in String for encoding \n",
    "df_test_false.StartTime= df_test_false.StartTime.astype(str) \n",
    "df_test_false.Length= df_test_false.Length.astype(str)\n",
    "Y_test_1 = np.array(df_test_false.Impressions)                       #Creating a array for impression Prediction \n",
    "del df_test_false['Impressions']\n",
    "del df_test_false['Description']\n",
    "\n",
    "\n",
    "\n",
    "#Length Dealing\n",
    "ftr = [3600,60,1]\n",
    "leng_seconds = [int(sum([a*b for a,b in zip(ftr, map(int,i.split(':')))])) for i in df_test_false['Length'].values]\n",
    "df_test_false['Length'] = leng_seconds#----------------------------------------------------------------------------------len in Seconds----------------->\n",
    "#Date Dealing\n",
    "month = [map(int,i.split('-'))[1] for i in df_test_false['Date'].values]\n",
    "day = [map(int,i.split('-'))[2] for i in df_test_false['Date'].values]\n",
    "df_test_false['Month'] = month       #----------------------------------------------------------------------------------Month--------->\n",
    "df_test_false['day'] = day           #------------------------------------------------------------------------------------Day--------->\n",
    "#Weekday dealing\n",
    "weekday = []\n",
    "import datetime\n",
    "for i in df_test_false['Date'].values:\n",
    "    year, month, day = (int(x) for x in i.split('-'))    \n",
    "    ans = datetime.date(year, month, day)\n",
    "    weekday.append(ans.strftime(\"%A\"))\n",
    "df_test_false['weekday'] = weekday  #---------------------------------------------------------------------------------------WeekdaysX------------>\n",
    "#Binary weekdays dealing\n",
    "binary_weekday = weekday[:]\n",
    "for i in range(len(weekday)):\n",
    "    if weekday[i] == 'Saturday':\n",
    "        binary_weekday[i] = 'Yes'\n",
    "    elif weekday[i] == 'Sunday':\n",
    "        binary_weekday[i] = 'Yes'\n",
    "    else:\n",
    "        binary_weekday[i] = 'No'\n",
    "df_test_false['B_weekday'] = binary_weekday #--------------------------------------------------------------------------------Binary weekend------>\n",
    "del df_test_false['Date'] #-----------------------------------------------------------------------------------------------Deleting Date------\n",
    "#StartTime Dealing\n",
    "Starttime = df_test_false['StartTime'].values\n",
    "for i in range(len(df_test_false['StartTime'].values)):\n",
    "    if len(df_test_false['StartTime'].values[i].split()) == 2:     \n",
    "        Starttime[i] =  df_test_false['StartTime'].values[i].split()[1]\n",
    "df_test_false['StartTime'] = Starttime #------------------------------------------------------------------------------------------Start time\n",
    "df_test_false['hour'] = [map(int,i.split(':'))[0] for i in df_test_false['StartTime'].values]#--------------------hour------------------------------->\n",
    "df_test_false.hour= df_test_false.hour.astype(str)\n",
    "df_test_false['StartTime'] = [map(int,i.split(':'))[0]+ map(int,i.split(':'))[1]/60.0+map(int,i.split(':'))[1]/3600.0 for i in df_test_false['StartTime'].values]\n"
   ]
  },
  {
   "cell_type": "code",
   "execution_count": null,
   "metadata": {
    "collapsed": true
   },
   "outputs": [],
   "source": [
    "#Decision channel\n",
    "df_tr = df_train_false[:]\n",
    "\n",
    "#del df_tr['StartTime'] #-------------------------------------------------------------------------------------------deleting starttime------>#\n",
    "#del df_tr['priorProgram'] #---------------------------------------------------------------------------------- -----prior programme--------->\n",
    "#del df_tr['subsequentProgram']#-------------------------------------------------------------------------- ----- ---subsequent programme\n",
    "#del df_tr['Length'] #---------------------------------------------------------------------------------------------del length -------------->\n",
    "#del df_tr['ProgrammeTheme'] #-------------------------------  ---------------------------------------------------- programe theme------->\n",
    "#del df_tr['ProgrammeGenre'] #------------------------------------------------------------------------------------- ProgrammeGenre------->\n",
    "del df_tr['B_weekday'] #---------------------------------------------------------------  --------------------------B-weekend------>\n",
    "del df_tr['hour'] #-----------------------------------------------------------------------  ------------------------Hour--------->\n",
    "#del df_tr['weekday'] #---------------------------------------------------------------------- -----------------------weekday-------->\n",
    "#del df_tr['day'] #-------------------------------------------------------------------------- ------------------------day------->\n",
    "#del df_tr['Month'] #-------------------------------------------------------------------------------------------------Month------>"
   ]
  },
  {
   "cell_type": "code",
   "execution_count": null,
   "metadata": {
    "collapsed": false
   },
   "outputs": [],
   "source": [
    "#Decision channel\n",
    "df_te = df_test_false[:]\n",
    "del df_te['Numbers']\n",
    "#del df_te['StartTime'] #-------------------------------------------------------------------------------------------deleting starttime------>#\n",
    "#del df_te['priorProgram'] #---------------------------------------------------------------------------------- -----prior programme--------->\n",
    "del df_te['subsequentProgram']#-------------------------------------------------------------------------- ----- ---subsequent programme\n",
    "#del df_te['Length'] #---------------------------------------------------------------------------------------------del length -------------->\n",
    "#del df_te['ProgrammeTheme'] #-------------------------------  ---------------------------------------------------- programe theme------->\n",
    "#del df_te['ProgrammeGenre'] #------------------------------------------------------------------------------------- ProgrammeGenre------->\n",
    "del df_te['B_weekday'] #---------------------------------------------------------------  --------------------------B-weekend------>\n",
    "del df_te['hour'] #-----------------------------------------------------------------------  ------------------------Hour--------->\n",
    "#del df_te['weekday'] #---------------------------------------------------------------------- -----------------------weekday-------->\n",
    "#del df_te['day'] #-------------------------------------------------------------------------- ------------------------day------->\n",
    "#del df_te['Month'] #-------------------------------------------------------------------------------------------------Month------>"
   ]
  },
  {
   "cell_type": "code",
   "execution_count": null,
   "metadata": {
    "collapsed": true
   },
   "outputs": [],
   "source": [
    "#ENCODING\n",
    "X_train = df_tr.to_dict('records')\n",
    "X_test = df_te.to_dict('records')\n",
    "X_tr = []\n",
    "X_te = []\n",
    "X_tr.extend(X_train)\n",
    "X_te.extend(X_test)\n",
    "X_total = X_tr + X_te"
   ]
  },
  {
   "cell_type": "code",
   "execution_count": null,
   "metadata": {
    "collapsed": true
   },
   "outputs": [],
   "source": []
  },
  {
   "cell_type": "code",
   "execution_count": null,
   "metadata": {
    "collapsed": false
   },
   "outputs": [],
   "source": [
    "#Extra Trees\n",
    "reg1 = ExtraTreesRegressor()\n",
    "reg1.fit(X_encoded_train,Y_train_1)\n",
    "Y_pred1 = reg1.predict(X_encoded_test)\n",
    "from sklearn.metrics import r2_score\n",
    "r2_score(Y_pred1 ,Y_test_1)"
   ]
  },
  {
   "cell_type": "code",
   "execution_count": null,
   "metadata": {
    "collapsed": true
   },
   "outputs": [],
   "source": [
    "df_test_false['predicted'] = Y_pred1\n",
    "df_false = df_test_false[['predicted']]"
   ]
  },
  {
   "cell_type": "code",
   "execution_count": null,
   "metadata": {
    "collapsed": false
   },
   "outputs": [],
   "source": [
    "#df = df[df.priorProgramnumber != 0]\n",
    "#df = df[df.subsequentProgramnumber != 12372]"
   ]
  },
  {
   "cell_type": "code",
   "execution_count": null,
   "metadata": {
    "collapsed": false
   },
   "outputs": [],
   "source": [
    "priorProgram = []\n",
    "subsequentProgram = []\n",
    "for i in df['priorProgramnumber'].values:\n",
    "    priorProgram.append(df_false.to_dict()['predicted'][i])\n",
    "    subsequentProgram.append(df_false.to_dict()['predicted'][i])\n",
    "df['priorProgram'] = priorProgram\n",
    "df['subsequentProgram'] = subsequentProgram"
   ]
  },
  {
   "cell_type": "code",
   "execution_count": null,
   "metadata": {
    "collapsed": true
   },
   "outputs": [],
   "source": [
    "X_test_ca = []\n",
    "for i in range(len(priorProgram)):\n",
    "    X_test_ca.append([df['priorProgram'].values[i],df['subsequentProgram'].values[i],df['L_1'].values[i],df['L_2'].values[i]])"
   ]
  },
  {
   "cell_type": "code",
   "execution_count": null,
   "metadata": {
    "collapsed": true
   },
   "outputs": [],
   "source": [
    "from sklearn.linear_model import LinearRegression\n",
    "reg = RandomForestRegressor()\n",
    "reg.fit(X_train_bp,Y_train_bp)\n",
    "Y_pred_ca =  reg.predict(X_test_ca)"
   ]
  },
  {
   "cell_type": "code",
   "execution_count": null,
   "metadata": {
    "collapsed": false
   },
   "outputs": [],
   "source": [
    "r2_score(Y_pred_ca,df['Impressions'].values)"
   ]
  },
  {
   "cell_type": "code",
   "execution_count": null,
   "metadata": {
    "collapsed": false
   },
   "outputs": [],
   "source": [
    "from sklearn.metrics import mean_absolute_error,mean_squared_error,r2_score\n",
    "print 'MAE = ',mean_absolute_error(df['Impressions'].values,Y_pred_ca)\n",
    "print 'MSE = ',mean_squared_error(df['Impressions'].values,Y_pred_ca)\n",
    "print 'RMSE = ',(mean_squared_error(df['Impressions'].values,Y_pred_ca))**0.5"
   ]
  },
  {
   "cell_type": "code",
   "execution_count": null,
   "metadata": {
    "collapsed": true
   },
   "outputs": [],
   "source": [
    "import numpy as np\n",
    "import matplotlib.pyplot as plt\n",
    "#OUR DATA\n",
    "A = 200\n",
    "X = np.arange(A)\n",
    "Y = df['Impressions'].values[:A]\n",
    "x = np.arange(A)\n",
    "y = Y_pred_ca[:A]\n",
    "####################\n",
    "#Visuvalization\n",
    "canvas = plt.figure()\n",
    "rect = canvas.patch\n",
    "rect.set_facecolor('white')\n",
    "sp1 = canvas.add_subplot(1,1,1, axisbg='w')\n",
    "sp1.plot(x, y, 'Red', linewidth=2)\n",
    "sp1.plot(X, Y, 'Black', linewidth=1)\n",
    "\n",
    "sp1.patch.set_facecolor('white') #------> background colour\n",
    "\n",
    "sp1.tick_params(axis='x', colors='green') #---------> X-value colour\n",
    "sp1.tick_params(axis='y', colors='red') #----------> y-value colour\n",
    "\n",
    "sp1.spines['bottom'].set_color('black')        #Colour of spines \n",
    "sp1.spines['top'].set_visible('False')\n",
    "sp1.spines['left'].set_color('black')\n",
    "sp1.spines['right'].set_visible('False')\n",
    "\n",
    "sp1.set_title('Impressions vs time Using Extra Classifier', color='red')\n",
    "sp1.set_xlabel('Time,BLUE -Actual', color='red')      #Colour of title and lables \n",
    "sp1.set_ylabel('Impression', color='red')\n",
    "plt.plot(X,Y)\n",
    "plt.plot(x,y)\n",
    "\n",
    "plt.tight_layout()\n",
    "plt.show()"
   ]
  },
  {
   "cell_type": "code",
   "execution_count": null,
   "metadata": {
    "collapsed": false
   },
   "outputs": [],
   "source": [
    "import numpy as np\n",
    "import matplotlib.pyplot as plt\n",
    "#OUR DATA\n",
    "\n",
    "A = len(Y_test_1)\n",
    "#X = np.arange(A)\n",
    "#Y = Y_test_1[:A]\n",
    "x = np.arange(A)\n",
    "y = Y_pred1- Y_test_1\n",
    "####################\n",
    "#Visuvalization\n",
    "canvas = plt.figure()\n",
    "rect = canvas.patch\n",
    "rect.set_facecolor('white')\n",
    "sp1 = canvas.add_subplot(1,1,1, axisbg='w')\n",
    "sp1.plot(x, y, 'Red', linewidth=2)\n",
    "#sp1.plot(X, Y, 'Black', linewidth=1)\n",
    "\n",
    "sp1.patch.set_facecolor('white') #------> background colour\n",
    "\n",
    "sp1.tick_params(axis='x', colors='green') #---------> X-value colour\n",
    "sp1.tick_params(axis='y', colors='red') #----------> y-value colour\n",
    "\n",
    "sp1.spines['bottom'].set_color('black')        #Colour of spines \n",
    "sp1.spines['top'].set_visible('False')\n",
    "sp1.spines['left'].set_color('black')\n",
    "sp1.spines['right'].set_visible('False')\n",
    "\n",
    "sp1.set_title('Impressions vs time Using Extra Classifier', color='red')\n",
    "sp1.set_xlabel('Time,BLUE -Actual', color='red')      #Colour of title and lables \n",
    "sp1.set_ylabel('Impression', color='red')\n",
    "#plt.plot(X,Y)\n",
    "plt.scatter(x,y)\n",
    "\n",
    "plt.tight_layout()\n",
    "plt.show()"
   ]
  },
  {
   "cell_type": "code",
   "execution_count": null,
   "metadata": {
    "collapsed": false
   },
   "outputs": [],
   "source": []
  },
  {
   "cell_type": "code",
   "execution_count": null,
   "metadata": {
    "collapsed": false
   },
   "outputs": [],
   "source": [
    "len(Y_pred1)"
   ]
  },
  {
   "cell_type": "code",
   "execution_count": null,
   "metadata": {
    "collapsed": true
   },
   "outputs": [],
   "source": []
  }
 ],
 "metadata": {
  "kernelspec": {
   "display_name": "Python 2",
   "language": "python",
   "name": "python2"
  },
  "language_info": {
   "codemirror_mode": {
    "name": "ipython",
    "version": 2
   },
   "file_extension": ".py",
   "mimetype": "text/x-python",
   "name": "python",
   "nbconvert_exporter": "python",
   "pygments_lexer": "ipython2",
   "version": "2.7.10"
  }
 },
 "nbformat": 4,
 "nbformat_minor": 0
}
