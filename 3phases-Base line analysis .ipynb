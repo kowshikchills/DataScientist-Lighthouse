{
 "cells": [
  {
   "cell_type": "markdown",
   "metadata": {},
   "source": [
    "# Phase 1, Flase Flag Data"
   ]
  },
  {
   "cell_type": "markdown",
   "metadata": {},
   "source": [
    "## Training the model"
   ]
  },
  {
   "cell_type": "code",
   "execution_count": null,
   "metadata": {
    "collapsed": true
   },
   "outputs": [],
   "source": [
    "import numpy as np\n",
    "import pandas\n",
    "from sklearn.feature_extraction import DictVectorizer\n",
    "from sklearn.ensemble import RandomForestRegressor\n",
    "from sklearn.ensemble import GradientBoostingRegressor,ExtraTreesRegressor,BaggingRegressor\n",
    "URL = 'C:\\Users\\Kowshik\\Desktop\\Lighthouse\\Consolidated data\\COL.xlsx'\n",
    "df_train = pandas.read_excel(URL,sheetname=4)\n",
    "#df_total = pandas.read_excel(URL,sheetname=3)\n",
    "df_test = pandas.read_excel(URL,sheetname=5)"
   ]
  },
  {
   "cell_type": "code",
   "execution_count": 2,
   "metadata": {
    "collapsed": false
   },
   "outputs": [],
   "source": [
    "df_train_false = df_train[:]\n",
    "#df_train_false.Level= df_train_false.Level.astype(str)\n",
    "#Dropping true Flag values\n",
    "df_train_false = df_train_false[df_train_false.Level != True]\n",
    "\n",
    "\n",
    "\n",
    "#deleting unwanted columns\n",
    "del df_train_false['BreakCode']                                  \n",
    "del df_train_false['EvType']\n",
    "del df_train_false['PromoCategory']\n",
    "del df_train_false['PromoType']\n",
    "del df_train_false['EndTime']\n",
    "del df_train_false['Level'] \n",
    "#Taggin 'Movies / Plays' into Movie\n",
    "Description = df_train_false['Description'].values\n",
    "for i in range(len(df_train_false['Description'].values)):\n",
    "    if df_train_false['ProgrammeTheme'].values[i] == 'Movies / Plays':\n",
    "         Description[i] = 'Movies'\n",
    "    if '1 Hour Special' in df_train_false['Description'].values[i]:\n",
    "        Description[i] = df_train_false['Description'].values[i].replace('- 1 Hour Special','').strip()       \n",
    "df_train_false['Description'] = Description\n",
    "\n",
    "#Prior and Subsequent programs \n",
    "priorProgram = []\n",
    "subsequentProgram = []\n",
    "for i in range(1,len(df_train_false['Description'].values)-1):\n",
    "    priorProgram.append(df_train_false['Description'].values[i-1])\n",
    "    subsequentProgram.append(df_train_false['Description'].values[i+1])\n",
    "df_train_false =df_train_false.drop(df_train_false.index[[0]])\n",
    "df_train_false =df_train_false.drop(df_train_false.index[[len(df_train_false['Description'].values)-1]])\n",
    "df_train_false['priorProgram'] = priorProgram \n",
    "df_train_false['subsequentProgram'] =  subsequentProgram\n",
    "\n",
    "\n",
    "\n",
    "\n",
    "#Categerizing the channels\n",
    "df_PR = df_train[:]\n",
    "df_PR = df_PR[df_PR.Level != True]\n",
    "df_PR = df_PR[['Description','Impressions','ProgrammeTheme']]\n",
    "Description = df_PR['Description'].values\n",
    "for i in range(len(df_PR['Description'].values)):\n",
    "    if df_PR['ProgrammeTheme'].values[i] == 'Movies / Plays':\n",
    "         Description[i] = 'Movies'\n",
    "    if '1 Hour Special' in df_PR['Description'].values[i]:\n",
    "        Description[i] = df_PR['Description'].values[i].replace('- 1 Hour Special','').strip()  \n",
    "df_PR['Description'] = Description\n",
    "A = np.unique(df_PR['Description'].values)\n",
    "PI = {}\n",
    "for i in A:\n",
    "    PI[i] = []\n",
    "    for j in range(len(df_PR['Description'].values)):\n",
    "        if df_PR['Description'].values[j] == i:\n",
    "            PI[i].append(df_PR['Impressions'].values[j])\n",
    "PI_AVG = {}\n",
    "for i in A:\n",
    "    PI_AVG[i] = np.mean(PI[i])\n",
    "    \n",
    "clus = []\n",
    "for i in PI_AVG.values()[1:]:\n",
    "    clus.append([i])\n",
    "from sklearn.cluster import KMeans\n",
    "clu = KMeans(n_clusters=6,n_init = 100,precompute_distances=False,n_jobs=1) #----------------- NO OF CLUSTERS ------------------>\n",
    "clu.fit(clus)\n",
    "Description_classified_prior = df_train_false['priorProgram'].values\n",
    "for i in range(len(df_train_false['priorProgram'].values)):\n",
    "    Description_classified_prior[i] = clu.predict(PI_AVG[df_train_false['priorProgram'].values[i]])[0]\n",
    "Description_classifiedsubsequent =df_train_false['subsequentProgram'].values\n",
    "for i in range(len(df_train_false['subsequentProgram'].values)):\n",
    "    Description_classifiedsubsequent[i] = clu.predict(PI_AVG[df_train_false['subsequentProgram'].values[i]])[0]\n",
    "df_train_false['priorProgram'] = Description_classified_prior\n",
    "df_train_false['subsequentProgram'] = Description_classifiedsubsequent\n",
    "df_train_false.priorProgram= df_train_false.priorProgram.astype(str) \n",
    "df_train_false.subsequentProgram= df_train_false.subsequentProgram.astype(str)\n",
    "\n",
    "\n",
    "\n",
    "#Deleting and string conversion\n",
    "df_train_false.Date = df_train_false.Date.astype(str)                    #Changing the Date as String \n",
    "df_train_false.ProgrammeTheme= df_train_false.ProgrammeTheme.astype(str) #Changing the Programme Theme in String for encoding \n",
    "df_train_false.ProgrammeGenre= df_train_false.ProgrammeGenre.astype(str) #Changing the Programme Gerne in String for encoding \n",
    "df_train_false.StartTime= df_train_false.StartTime.astype(str) \n",
    "df_train_false.Length= df_train_false.Length.astype(str)\n",
    "Y_train_1 = np.array(df_train_false.Impressions)                       #Creating a array for impression Prediction \n",
    "del df_train_false['Impressions']\n",
    "del df_train_false['Description']\n",
    "del df_train_false['rat'] \n",
    "del df_train_false['Shr'] \n",
    "del df_train_false['Rch_000'] \n",
    "del df_train_false['Rch'] \n",
    "\n",
    "\n",
    "\n",
    "#Length Dealing\n",
    "ftr = [3600,60,1]\n",
    "leng_seconds = [int(sum([a*b for a,b in zip(ftr, map(int,i.split(':')))])) for i in df_train_false['Length'].values]\n",
    "df_train_false['Length'] = leng_seconds#----------------------------------------------------------------------------------len in Seconds----------------->\n",
    "#Date Dealing\n",
    "month = [map(int,i.split('-'))[1] for i in df_train_false['Date'].values]\n",
    "day = [map(int,i.split('-'))[2] for i in df_train_false['Date'].values]\n",
    "df_train_false['Month'] = month       #----------------------------------------------------------------------------------Month--------->\n",
    "df_train_false['day'] = day           #------------------------------------------------------------------------------------Day--------->\n",
    "#Weekday dealing\n",
    "weekday = []\n",
    "import datetime\n",
    "for i in df_train_false['Date'].values:\n",
    "    year, month, day = (int(x) for x in i.split('-'))    \n",
    "    ans = datetime.date(year, month, day)\n",
    "    weekday.append(ans.strftime(\"%A\"))\n",
    "df_train_false['weekday'] = weekday  #---------------------------------------------------------------------------------------WeekdaysX------------>\n",
    "#Binary weekdays dealing\n",
    "binary_weekday = weekday[:]\n",
    "for i in range(len(weekday)):\n",
    "    if weekday[i] == 'Saturday':\n",
    "        binary_weekday[i] = 'Yes'\n",
    "    elif weekday[i] == 'Sunday':\n",
    "        binary_weekday[i] = 'Yes'\n",
    "    else:\n",
    "        binary_weekday[i] = 'No'\n",
    "df_train_false['B_weekday'] = binary_weekday #--------------------------------------------------------------------------------Binary weekend------>\n",
    "del df_train_false['Date'] #-----------------------------------------------------------------------------------------------Deleting Date------\n",
    "#StartTime Dealing\n",
    "Starttime = df_train_false['StartTime'].values\n",
    "for i in range(len(df_train_false['StartTime'].values)):\n",
    "    if len(df_train_false['StartTime'].values[i].split()) == 2:     \n",
    "        Starttime[i] =  df_train_false['StartTime'].values[i].split()[1]\n",
    "df_train_false['StartTime'] = Starttime #------------------------------------------------------------------------------------------Start time\n",
    "df_train_false['hour'] = [map(int,i.split(':'))[0] for i in df_train_false['StartTime'].values]#--------------------hour------------------------------->\n",
    "df_train_false.hour= df_train_false.hour.astype(str)\n",
    "df_train_false['StartTime'] = [map(int,i.split(':'))[0]+ map(int,i.split(':'))[1]/60.0+map(int,i.split(':'))[1]/3600.0 for i in df_train_false['StartTime'].values]\n",
    "df_train_false.hour= df_train_false.hour.astype(str)\n",
    "df_train_false.day= df_train_false.day.astype(str)\n",
    "df_train_false.Month= df_train_false.Month.astype(str)"
   ]
  },
  {
   "cell_type": "markdown",
   "metadata": {},
   "source": [
    "Now Train Data is ready for training the model. encoding should be done with both testing and training data."
   ]
  },
  {
   "cell_type": "markdown",
   "metadata": {},
   "source": [
    "# #Testing the phase 1 model"
   ]
  },
  {
   "cell_type": "code",
   "execution_count": 3,
   "metadata": {
    "collapsed": false
   },
   "outputs": [],
   "source": [
    "df_bl = pandas.read_excel('baseline.xlsx')"
   ]
  },
  {
   "cell_type": "code",
   "execution_count": 20,
   "metadata": {
    "collapsed": false
   },
   "outputs": [],
   "source": [
    "df_test_false = df_test[:]\n",
    "#df_test_false.Level= df_test_false.Level.astype(str)\n",
    "#Dropping true Flag values\n",
    "df_test_false = df_test_false[df_test_false.Level != True]\n",
    "#deleting unwanted columns\n",
    "del df_test_false['BreakCode']                                  \n",
    "del df_test_false['EvType']\n",
    "del df_test_false['PromoCategory']\n",
    "del df_test_false['PromoType']\n",
    "del df_test_false['EndTime']\n",
    "del df_test_false['Level'] \n",
    "#Taggin 'Movies / Plays' into Movie\n",
    "Description = df_test_false['Description'].values\n",
    "for i in range(len(df_test_false['Description'].values)):\n",
    "    if df_test_false['ProgrammeTheme'].values[i] == 'Movies / Plays':\n",
    "         Description[i] = 'Movies'\n",
    "    if '1 Hour Special' in df_test_false['Description'].values[i]:\n",
    "        Description[i] = df_test_false['Description'].values[i].replace('- 1 Hour Special','').strip()       \n",
    "df_test_false['Description'] = Description\n",
    "\n",
    "\n",
    "#Deleting and string conversion\n",
    "df_test_false.Date = df_test_false.Date.astype(str)                    #Changing the Date as String \n",
    "df_test_false.ProgrammeTheme= df_test_false.ProgrammeTheme.astype(str) #Changing the Programme Theme in String for encoding \n",
    "df_test_false.ProgrammeGenre= df_test_false.ProgrammeGenre.astype(str) #Changing the Programme Gerne in String for encoding \n",
    "df_test_false.StartTime= df_test_false.StartTime.astype(str) \n",
    "df_test_false.Length= df_test_false.Length.astype(str)\n",
    "\n",
    "#del df_test_false['Description']\n",
    "del df_test_false['rat'] \n",
    "del df_test_false['Shr'] \n",
    "del df_test_false['Rch_000'] \n",
    "del df_test_false['Rch'] \n",
    "\n",
    "\n",
    "#Length Dealing\n",
    "ftr = [3600,60,1]\n",
    "leng_seconds = [int(sum([a*b for a,b in zip(ftr, map(int,i.split(':')))])) for i in df_test_false['Length'].values]\n",
    "df_test_false['Length'] = leng_seconds#----------------------------------------------------------------------------------len in Seconds----------------->\n",
    "#Date Dealing\n",
    "month = [map(int,i.split('-'))[1] for i in df_test_false['Date'].values]\n",
    "day = [map(int,i.split('-'))[2] for i in df_test_false['Date'].values]\n",
    "df_test_false['Month'] = month       #----------------------------------------------------------------------------------Month--------->\n",
    "df_test_false['day'] = day           #------------------------------------------------------------------------------------Day--------->\n",
    "#Weekday dealing\n",
    "weekday = []\n",
    "import datetime\n",
    "for i in df_test_false['Date'].values:\n",
    "    year, month, day = (int(x) for x in i.split('-'))    \n",
    "    ans = datetime.date(year, month, day)\n",
    "    weekday.append(ans.strftime(\"%A\"))\n",
    "df_test_false['weekday'] = weekday  #---------------------------------------------------------------------------------------WeekdaysX------------>\n",
    "#Binary weekdays dealing\n",
    "binary_weekday = weekday[:]\n",
    "for i in range(len(weekday)):\n",
    "    if weekday[i] == 'Saturday':\n",
    "        binary_weekday[i] = 'Yes'\n",
    "    elif weekday[i] == 'Sunday':\n",
    "        binary_weekday[i] = 'Yes'\n",
    "    else:\n",
    "        binary_weekday[i] = 'No'\n",
    "df_test_false['B_weekday'] = binary_weekday #--------------------------------------------------------------------------------Binary weekend------>\n",
    "del df_test_false['Date'] #-----------------------------------------------------------------------------------------------Deleting Date------\n",
    "\n",
    "#StartTime Dealing\n",
    "Starttime = df_test_false['StartTime'].values\n",
    "for i in range(len(df_test_false['StartTime'].values)):\n",
    "    if len(df_test_false['StartTime'].values[i].split()) == 2:     \n",
    "        Starttime[i] =  df_test_false['StartTime'].values[i].split()[1]\n",
    "df_test_false['StartTime'] = Starttime #------------------------------------------------------------------------------------------Start time\n",
    "df_test_false['hour'] = [map(int,i.split(':'))[0] for i in df_test_false['StartTime'].values]#--------------------hour------------------------------->\n",
    "df_test_false.hour= df_test_false.hour.astype(str)\n",
    "df_test_false['StartTime'] = [map(int,i.split(':'))[0]+ map(int,i.split(':'))[1]/60.0+map(int,i.split(':'))[1]/3600.0 for i in df_test_false['StartTime'].values]\n",
    "\n",
    "##################################################################################\n",
    "#Prior and Subsequent programs \n",
    "priorProgram = []\n",
    "subsequentProgram = []\n",
    "for i in range(1,len(df_test_false['Description'].values)-1):\n",
    "    priorProgram.append(df_test_false['Description'].values[i-1])\n",
    "    subsequentProgram.append(df_test_false['Description'].values[i+1])\n",
    "df_test_false =df_test_false.drop(df_test_false.index[[0]])\n",
    "df_test_false =df_test_false.drop(df_test_false.index[[len(df_test_false['Description'].values)-1]])\n",
    "df_test_false['priorProgram'] = priorProgram \n",
    "df_test_false['subsequentProgram'] =  subsequentProgram\n",
    "\n",
    "\n",
    "\n",
    "\n",
    "\n",
    "\n",
    "Description_classified_prior = df_test_false['priorProgram'].values[:]\n",
    "df_test_false['priorProgram1'] = df_test_false['priorProgram'].values\n",
    "for i in range(len(df_test_false['priorProgram'].values)):\n",
    "    if df_test_false['priorProgram'].values[i] in df_train['Description'].values:\n",
    "        Description_classified_prior[i] = clu.predict(PI_AVG[df_test_false['priorProgram'].values[i]])[0]\n",
    "       \n",
    "    else:\n",
    "        for k in range(len(df_bl)):\n",
    "            if df_test_false['hour'].values[i] ==  df_bl['Hour'].values[k]:\n",
    "                Description_classified_prior[i] = clu.predict(df_bl['BaseLine'].values[k])[0]\n",
    "                #pr1.append(df_test_false['priorProgram1'].values[i])\n",
    "\n",
    "\n",
    "Description_classifiedsubsequent = df_test_false['subsequentProgram'].values[:]\n",
    "df_test_false['subsequentProgram1'] = df_test_false['subsequentProgram'].values\n",
    "for i in range(len(df_test_false['subsequentProgram'].values)):\n",
    "    if df_test_false['subsequentProgram'].values[i] in df_train['Description'].values:\n",
    "        Description_classifiedsubsequent[i] = clu.predict(PI_AVG[df_test_false['subsequentProgram'].values[i]])[0] \n",
    "    else:\n",
    "        for k in range(len(df_bl)):\n",
    "            if df_test_false['hour'].values[i] ==  df_bl['Hour'].values[k]:\n",
    "                Description_classifiedsubsequent[i] = clu.predict(df_bl['BaseLine'].values[k])[0]\n",
    "################################################################################################################################\n",
    "del df_test_false['Description']\n",
    "Y_test_1 = np.array(df_test_false.Impressions)                       #Creating a array for impression Prediction \n",
    "del df_test_false['Impressions']"
   ]
  },
  {
   "cell_type": "code",
   "execution_count": 21,
   "metadata": {
    "collapsed": true
   },
   "outputs": [],
   "source": [
    "#Decision channel\n",
    "df_tr = df_train_false[:]\n",
    "#del df_tr['StartTime'] #-------------------------------------------------------------------------------------------deleting starttime------>#\n",
    "#del df_tr['priorProgram'] #---------------------------------------------------------------------------------- -----prior programme--------->\n",
    "#del df_tr['subsequentProgram']#-------------------------------------------------------------------------- ----- ---subsequent programme\n",
    "#del df_tr['Length'] #---------------------------------------------------------------------------------------------del length -------------->\n",
    "#del df_tr['ProgrammeTheme'] #-------------------------------  ---------------------------------------------------- programe theme------->\n",
    "#del df_tr['ProgrammeGenre'] #------------------------------------------------------------------------------------- ProgrammeGenre------->\n",
    "del df_tr['B_weekday'] #---------------------------------------------------------------  --------------------------B-weekend------>\n",
    "del df_tr['hour'] #-----------------------------------------------------------------------  ------------------------Hour--------->\n",
    "#del df_tr['weekday'] #---------------------------------------------------------------------- -----------------------weekday-------->\n",
    "#del df_tr['day'] #-------------------------------------------------------------------------- ------------------------day------->\n",
    "#del df_tr['Month'] #-------------------------------------------------------------------------------------------------Month------>"
   ]
  },
  {
   "cell_type": "code",
   "execution_count": 22,
   "metadata": {
    "collapsed": false
   },
   "outputs": [],
   "source": [
    "#Decision channel\n",
    "df_te = df_test_false[:]\n",
    "#del df_te['StartTime'] #-------------------------------------------------------------------------------------------deleting starttime------>#\n",
    "#del df_te['priorProgram'] #---------------------------------------------------------------------------------- -----prior programme--------->\n",
    "#del df_te['subsequentProgram']#-------------------------------------------------------------------------- ----- ---subsequent programme\n",
    "#del df_te['Length'] #---------------------------------------------------------------------------------------------del length -------------->\n",
    "#del df_te['ProgrammeTheme'] #-------------------------------  ---------------------------------------------------- programe theme------->\n",
    "#del df_te['ProgrammeGenre'] #------------------------------------------------------------------------------------- ProgrammeGenre------->\n",
    "del df_te['B_weekday'] #---------------------------------------------------------------  --------------------------B-weekend------>\n",
    "del df_te['hour'] #-----------------------------------------------------------------------  ------------------------Hour--------->\n",
    "#del df_te['weekday'] #---------------------------------------------------------------------- -----------------------weekday-------->\n",
    "#del df_te['day'] #-------------------------------------------------------------------------- ------------------------day------->\n",
    "#del df_te['Month'] #-------------------------------------------------------------------------------------------------Month------>"
   ]
  },
  {
   "cell_type": "code",
   "execution_count": 23,
   "metadata": {
    "collapsed": false
   },
   "outputs": [
    {
     "data": {
      "text/plain": [
       "array(['1', '10', '11', '12', '2', '3', '4'], dtype=object)"
      ]
     },
     "execution_count": 23,
     "metadata": {},
     "output_type": "execute_result"
    }
   ],
   "source": [
    "np.unique(df_tr['Month'])"
   ]
  },
  {
   "cell_type": "code",
   "execution_count": 24,
   "metadata": {
    "collapsed": false
   },
   "outputs": [],
   "source": [
    "#ENCODING\n",
    "X_train = df_tr.to_dict('records')\n",
    "X_test = df_te.to_dict('records')\n",
    "X_tr = []\n",
    "X_te = []\n",
    "X_tr.extend(X_train)\n",
    "X_te.extend(X_test)\n",
    "X_total = X_tr + X_te"
   ]
  },
  {
   "cell_type": "code",
   "execution_count": 25,
   "metadata": {
    "collapsed": false
   },
   "outputs": [],
   "source": [
    "#One Hot Encoding \n",
    "enc = DictVectorizer()\n",
    "X_encoded_total =enc.fit_transform(X_total)\n",
    "X_encoded_train =X_encoded_total[:len(X_tr)]\n",
    "X_encoded_test =X_encoded_total[len(X_tr):]"
   ]
  },
  {
   "cell_type": "code",
   "execution_count": 51,
   "metadata": {
    "collapsed": false
   },
   "outputs": [
    {
     "ename": "TypeError",
     "evalue": "A sparse matrix was passed, but dense data is required. Use X.toarray() to convert to a dense numpy array.",
     "output_type": "error",
     "traceback": [
      "\u001b[1;31m---------------------------------------------------------------------------\u001b[0m",
      "\u001b[1;31mTypeError\u001b[0m                                 Traceback (most recent call last)",
      "\u001b[1;32m<ipython-input-51-1253bf998be3>\u001b[0m in \u001b[0;36m<module>\u001b[1;34m()\u001b[0m\n\u001b[0;32m      2\u001b[0m \u001b[0mreg1\u001b[0m \u001b[1;33m=\u001b[0m \u001b[0mGradientBoostingRegressor\u001b[0m\u001b[1;33m(\u001b[0m\u001b[1;33m)\u001b[0m\u001b[1;33m\u001b[0m\u001b[0m\n\u001b[0;32m      3\u001b[0m \u001b[0mreg1\u001b[0m\u001b[1;33m.\u001b[0m\u001b[0mfit\u001b[0m\u001b[1;33m(\u001b[0m\u001b[0mX_encoded_train\u001b[0m\u001b[1;33m,\u001b[0m\u001b[0mY_train_1\u001b[0m\u001b[1;33m)\u001b[0m\u001b[1;33m\u001b[0m\u001b[0m\n\u001b[1;32m----> 4\u001b[1;33m \u001b[0mY_pred1\u001b[0m \u001b[1;33m=\u001b[0m \u001b[0mreg1\u001b[0m\u001b[1;33m.\u001b[0m\u001b[0mpredict\u001b[0m\u001b[1;33m(\u001b[0m\u001b[0mX_encoded_test\u001b[0m\u001b[1;33m)\u001b[0m\u001b[1;33m\u001b[0m\u001b[0m\n\u001b[0m\u001b[0;32m      5\u001b[0m \u001b[1;32mfrom\u001b[0m \u001b[0msklearn\u001b[0m\u001b[1;33m.\u001b[0m\u001b[0mmetrics\u001b[0m \u001b[1;32mimport\u001b[0m \u001b[0mr2_score\u001b[0m\u001b[1;33m\u001b[0m\u001b[0m\n\u001b[0;32m      6\u001b[0m \u001b[0mr2_score\u001b[0m\u001b[1;33m(\u001b[0m\u001b[0mY_pred1\u001b[0m \u001b[1;33m,\u001b[0m\u001b[0mY_test_1\u001b[0m\u001b[1;33m)\u001b[0m\u001b[1;33m\u001b[0m\u001b[0m\n",
      "\u001b[1;32mC:\\Users\\Kowshik\\AppData\\Local\\Enthought\\Canopy\\User\\lib\\site-packages\\sklearn\\ensemble\\gradient_boosting.pyc\u001b[0m in \u001b[0;36mpredict\u001b[1;34m(self, X)\u001b[0m\n\u001b[0;32m   1779\u001b[0m             \u001b[0mThe\u001b[0m \u001b[0mpredicted\u001b[0m \u001b[0mvalues\u001b[0m\u001b[1;33m.\u001b[0m\u001b[1;33m\u001b[0m\u001b[0m\n\u001b[0;32m   1780\u001b[0m         \"\"\"\n\u001b[1;32m-> 1781\u001b[1;33m         \u001b[0mX\u001b[0m \u001b[1;33m=\u001b[0m \u001b[0mcheck_array\u001b[0m\u001b[1;33m(\u001b[0m\u001b[0mX\u001b[0m\u001b[1;33m,\u001b[0m \u001b[0mdtype\u001b[0m\u001b[1;33m=\u001b[0m\u001b[0mDTYPE\u001b[0m\u001b[1;33m,\u001b[0m \u001b[0morder\u001b[0m\u001b[1;33m=\u001b[0m\u001b[1;34m\"C\"\u001b[0m\u001b[1;33m)\u001b[0m\u001b[1;33m\u001b[0m\u001b[0m\n\u001b[0m\u001b[0;32m   1782\u001b[0m         \u001b[1;32mreturn\u001b[0m \u001b[0mself\u001b[0m\u001b[1;33m.\u001b[0m\u001b[0m_decision_function\u001b[0m\u001b[1;33m(\u001b[0m\u001b[0mX\u001b[0m\u001b[1;33m)\u001b[0m\u001b[1;33m.\u001b[0m\u001b[0mravel\u001b[0m\u001b[1;33m(\u001b[0m\u001b[1;33m)\u001b[0m\u001b[1;33m\u001b[0m\u001b[0m\n\u001b[0;32m   1783\u001b[0m \u001b[1;33m\u001b[0m\u001b[0m\n",
      "\u001b[1;32mC:\\Users\\Kowshik\\AppData\\Local\\Enthought\\Canopy\\User\\lib\\site-packages\\sklearn\\utils\\validation.pyc\u001b[0m in \u001b[0;36mcheck_array\u001b[1;34m(array, accept_sparse, dtype, order, copy, force_all_finite, ensure_2d, allow_nd, ensure_min_samples, ensure_min_features, warn_on_dtype, estimator)\u001b[0m\n\u001b[0;32m    369\u001b[0m     \u001b[1;32mif\u001b[0m \u001b[0msp\u001b[0m\u001b[1;33m.\u001b[0m\u001b[0missparse\u001b[0m\u001b[1;33m(\u001b[0m\u001b[0marray\u001b[0m\u001b[1;33m)\u001b[0m\u001b[1;33m:\u001b[0m\u001b[1;33m\u001b[0m\u001b[0m\n\u001b[0;32m    370\u001b[0m         array = _ensure_sparse_format(array, accept_sparse, dtype, copy,\n\u001b[1;32m--> 371\u001b[1;33m                                       force_all_finite)\n\u001b[0m\u001b[0;32m    372\u001b[0m     \u001b[1;32melse\u001b[0m\u001b[1;33m:\u001b[0m\u001b[1;33m\u001b[0m\u001b[0m\n\u001b[0;32m    373\u001b[0m         \u001b[0marray\u001b[0m \u001b[1;33m=\u001b[0m \u001b[0mnp\u001b[0m\u001b[1;33m.\u001b[0m\u001b[0marray\u001b[0m\u001b[1;33m(\u001b[0m\u001b[0marray\u001b[0m\u001b[1;33m,\u001b[0m \u001b[0mdtype\u001b[0m\u001b[1;33m=\u001b[0m\u001b[0mdtype\u001b[0m\u001b[1;33m,\u001b[0m \u001b[0morder\u001b[0m\u001b[1;33m=\u001b[0m\u001b[0morder\u001b[0m\u001b[1;33m,\u001b[0m \u001b[0mcopy\u001b[0m\u001b[1;33m=\u001b[0m\u001b[0mcopy\u001b[0m\u001b[1;33m)\u001b[0m\u001b[1;33m\u001b[0m\u001b[0m\n",
      "\u001b[1;32mC:\\Users\\Kowshik\\AppData\\Local\\Enthought\\Canopy\\User\\lib\\site-packages\\sklearn\\utils\\validation.pyc\u001b[0m in \u001b[0;36m_ensure_sparse_format\u001b[1;34m(spmatrix, accept_sparse, dtype, copy, force_all_finite)\u001b[0m\n\u001b[0;32m    236\u001b[0m     \"\"\"\n\u001b[0;32m    237\u001b[0m     \u001b[1;32mif\u001b[0m \u001b[0maccept_sparse\u001b[0m \u001b[1;32min\u001b[0m \u001b[1;33m[\u001b[0m\u001b[0mNone\u001b[0m\u001b[1;33m,\u001b[0m \u001b[0mFalse\u001b[0m\u001b[1;33m]\u001b[0m\u001b[1;33m:\u001b[0m\u001b[1;33m\u001b[0m\u001b[0m\n\u001b[1;32m--> 238\u001b[1;33m         raise TypeError('A sparse matrix was passed, but dense '\n\u001b[0m\u001b[0;32m    239\u001b[0m                         \u001b[1;34m'data is required. Use X.toarray() to '\u001b[0m\u001b[1;33m\u001b[0m\u001b[0m\n\u001b[0;32m    240\u001b[0m                         'convert to a dense numpy array.')\n",
      "\u001b[1;31mTypeError\u001b[0m: A sparse matrix was passed, but dense data is required. Use X.toarray() to convert to a dense numpy array."
     ]
    }
   ],
   "source": [
    "#Extra Trees\n",
    "reg1 = GradientBoostingRegressor() ##########################################Code loophole\n",
    "reg1.fit(X_encoded_train,Y_train_1)\n",
    "Y_pred1 = reg1.predict(X_encoded_test)\n",
    "from sklearn.metrics import r2_score\n",
    "r2_score(Y_pred1 ,Y_test_1)"
   ]
  },
  {
   "cell_type": "code",
   "execution_count": null,
   "metadata": {
    "collapsed": false
   },
   "outputs": [],
   "source": [
    "df_te['Predicted'] = Y_pred1"
   ]
  },
  {
   "cell_type": "code",
   "execution_count": 107,
   "metadata": {
    "collapsed": true
   },
   "outputs": [],
   "source": [
    "from pandas import ExcelWriter\n",
    "writer = ExcelWriter('output.xlsx')\n",
    "df_te.to_excel(writer,'Sheet1')\n",
    "writer.save()"
   ]
  },
  {
   "cell_type": "code",
   "execution_count": null,
   "metadata": {
    "collapsed": true
   },
   "outputs": [],
   "source": []
  },
  {
   "cell_type": "code",
   "execution_count": null,
   "metadata": {
    "collapsed": true
   },
   "outputs": [],
   "source": []
  },
  {
   "cell_type": "code",
   "execution_count": null,
   "metadata": {
    "collapsed": true
   },
   "outputs": [],
   "source": []
  },
  {
   "cell_type": "code",
   "execution_count": null,
   "metadata": {
    "collapsed": true
   },
   "outputs": [],
   "source": []
  },
  {
   "cell_type": "code",
   "execution_count": null,
   "metadata": {
    "collapsed": true
   },
   "outputs": [],
   "source": []
  },
  {
   "cell_type": "code",
   "execution_count": null,
   "metadata": {
    "collapsed": true
   },
   "outputs": [],
   "source": []
  },
  {
   "cell_type": "code",
   "execution_count": 28,
   "metadata": {
    "collapsed": false
   },
   "outputs": [],
   "source": [
    "df_train_bp = df_train[:]\n",
    "df_train_bp =  df_train_bp[df_train_bp.EvType != 'Ad Break']\n",
    "df_train_bp =  df_train_bp[df_train_bp.ProgrammeTheme != 'Teleshopping']\n",
    "################################################################\n",
    "df_train_bp.StartTime= df_train_bp.StartTime.astype(str)\n",
    "df_train_bp.EndTime=   df_train_bp.EndTime.astype(str)\n",
    "#StartTime Dealing\n",
    "Starttime = df_train_bp['StartTime'].values\n",
    "for i in range(len(df_train_bp['StartTime'].values)):\n",
    "    if len(df_train_bp['StartTime'].values[i].split()) == 2:     \n",
    "        Starttime[i] =  df_train_bp['StartTime'].values[i].split()[1]\n",
    "df_train_bp['StartTime'] = Starttime #------------------------------------------------------------------------------------------Start time\n",
    "\n",
    "EndTime = df_train_bp['EndTime'].values\n",
    "for i in range(len(df_train_bp['EndTime'].values)):\n",
    "    if len(df_train_bp['EndTime'].values[i].split()) == 2:     \n",
    "        EndTime[i] =  df_train_bp['EndTime'].values[i].split()[1]\n",
    "df_train_bp['EndTime'] = EndTime #------------------------------------------------------------------------------------------Start time\n",
    "\n",
    "\n",
    "#Prior and Subsequent programs \n",
    "priorProgram = []\n",
    "subsequentProgram = []\n",
    "priorstarttime = []\n",
    "priorendtime = []\n",
    "subsequentstarttime = []\n",
    "subsequentendtime = []\n",
    "#df_CH['EvType'].values\n",
    "for i in range(int(len(df_train_bp['EvType'].values))):\n",
    "    if df_train_bp['EvType'].values[i] == 'Promo':\n",
    "        for j in range(i,-1,-1):\n",
    "            if df_train_bp['Level'].values[j] == False:\n",
    "                priorProgram.append(df_train_bp['Impressions'].values[j])\n",
    "                priorstarttime.append(df_train_bp['StartTime'].values[j])\n",
    "                priorendtime.append(df_train_bp['EndTime'].values[j])\n",
    "                break\n",
    "for i in range(int(len(df_train_bp['EvType'].values))):\n",
    "    if df_train_bp['EvType'].values[i] == 'Promo':\n",
    "        for j in range(i,int(len(df_train_bp['EvType'].values))):\n",
    "            if df_train_bp['Level'].values[j] == False:\n",
    "                subsequentProgram.append(df_train_bp['Impressions'].values[j])\n",
    "                subsequentstarttime.append(df_train_bp['StartTime'].values[j])\n",
    "                subsequentendtime.append(df_train_bp['EndTime'].values[j])\n",
    "                break\n",
    "\n",
    "                \n",
    "df_train_bp =  df_train_bp[df_train_bp.EvType != 'Program']\n",
    "df_train_bp['priorProgram'] = priorProgram #-------------------------------------------------Priorprograms---------->\n",
    "df_train_bp['subsequentProgram'] =  subsequentProgram#--------------------------------------subprograms--------->\n",
    "df_train_bp['priorstarttime'] = priorstarttime\n",
    "df_train_bp['priorendtime'] =  priorendtime\n",
    "df_train_bp['subsequentstarttime'] =  subsequentstarttime\n",
    "df_train_bp['subsequentendtime'] =  subsequentendtime\n",
    "df_train_bp  = df_train_bp[df_train_bp.priorProgram.notnull()]\n",
    "df_train_bp  = df_train_bp[df_train_bp.subsequentProgram.notnull()]  \n",
    "\n",
    "\n",
    "df_train_bp.Length= df_train_bp.Length.astype(str)\n",
    "df_train_bp.StartTime= df_train_bp.StartTime.astype(str)\n",
    "df_train_bp.priorstarttime= df_train_bp.priorstarttime.astype(str)\n",
    "df_train_bp.priorendtime= df_train_bp.priorendtime.astype(str)\n",
    "df_train_bp.subsequentstarttime= df_train_bp.subsequentstarttime.astype(str)\n",
    "df_train_bp.subsequentendtime= df_train_bp.subsequentendtime.astype(str)\n",
    "ftr = [3600,60,1]\n",
    "leng_seconds = [int(sum([a*b for a,b in zip(ftr, map(int,i.split(':')))])) for i in df_train_bp['Length'].values]\n",
    "df_train_bp['Length'] = leng_seconds#----------------------------------------------------------------------------------len in Seconds----------------->\n",
    "StartTime_seconds = [int(sum([a*b for a,b in zip(ftr, map(int,i.split(':')))])) for i in df_train_bp['StartTime'].values]\n",
    "df_train_bp['StartTime'] = StartTime_seconds#----------------------------------------------------------------------------------start time in Seconds----------------->\n",
    "EndTime_seconds = [int(sum([a*b for a,b in zip(ftr, map(int,i.split(':')))])) for i in df_train_bp['EndTime'].values]\n",
    "df_train_bp['EndTime'] = EndTime_seconds#----------------------------------------------------------------------------------start time in Seconds----------------->\n",
    "priorstarttime_seconds = [int(sum([a*b for a,b in zip(ftr, map(int,i.split(':')))])) for i in df_train_bp['priorstarttime'].values]\n",
    "df_train_bp['priorstarttime'] = priorstarttime_seconds#----------------------------------------------------------------------------------start time in Seconds----------------->\n",
    "priorendtime_seconds = [int(sum([a*b for a,b in zip(ftr, map(int,i.split(':')))])) for i in df_train_bp['priorendtime'].values]\n",
    "df_train_bp['priorendtime'] = priorendtime_seconds\n",
    "subsequentstarttime_seconds = [int(sum([a*b for a,b in zip(ftr, map(int,i.split(':')))])) for i in df_train_bp['subsequentstarttime'].values]\n",
    "df_train_bp['subsequentstarttime'] = subsequentstarttime_seconds\n",
    "subsequentendtime_seconds = [int(sum([a*b for a,b in zip(ftr, map(int,i.split(':')))])) for i in df_train_bp['subsequentendtime'].values]\n",
    "df_train_bp['subsequentendtime'] = subsequentendtime_seconds\n",
    "\n",
    "L_1 = []\n",
    "L_2 = []\n",
    "for i in range(len(df_train_bp['subsequentProgram'].values)):\n",
    "    L_1.append(abs(df_train_bp['StartTime'].values[i] - df_train_bp['priorstarttime'].values[i]))\n",
    "    L_2.append(abs(df_train_bp['priorendtime'].values[i] - df_train_bp['EndTime'].values[i]))\n",
    "df_train_bp['L_1'] = L_1\n",
    "df_train_bp['L_2'] = L_2\n",
    "\n",
    "X_train_bp = []\n",
    "Y_train_bp = []\n",
    "for i in range(len(priorProgram)):\n",
    "    X_train_bp.append([df_train_bp['priorProgram'].values[i],df_train_bp['subsequentProgram'].values[i],df_train_bp['L_1'].values[i],df_train_bp['L_2'].values[i]])\n",
    "    Y_train_bp.append(df_train_bp['Impressions'].values[i])\n"
   ]
  },
  {
   "cell_type": "code",
   "execution_count": 29,
   "metadata": {
    "collapsed": true
   },
   "outputs": [],
   "source": [
    "# All phase analysis\n",
    "df = df_test\n",
    "df['Numbers'] = np.arange(len(df))\n",
    "df = df[df.ProgrammeTheme != 'Teleshopping']\n",
    "df = df[df.EvType != 'Ad Break']\n",
    "#del df['Impressions']"
   ]
  },
  {
   "cell_type": "code",
   "execution_count": 30,
   "metadata": {
    "collapsed": true
   },
   "outputs": [],
   "source": [
    "df.StartTime= df.StartTime.astype(str)\n",
    "df.EndTime=   df.EndTime.astype(str)\n",
    "#StartTime Dealing\n",
    "Starttime = df['StartTime'].values\n",
    "for i in range(len(df['StartTime'].values)):\n",
    "    if len(df['StartTime'].values[i].split()) == 2:     \n",
    "        Starttime[i] =  df['StartTime'].values[i].split()[1]\n",
    "df['StartTime'] = Starttime #------------------------------------------------------------------------------------------Start time\n",
    "\n",
    "EndTime = df['EndTime'].values\n",
    "for i in range(len(df['EndTime'].values)):\n",
    "    if len(df['EndTime'].values[i].split()) == 2:     \n",
    "        EndTime[i] =  df['EndTime'].values[i].split()[1]\n",
    "df['EndTime'] = EndTime #------------------------------------------------------------------------------------------Start time\n"
   ]
  },
  {
   "cell_type": "code",
   "execution_count": 31,
   "metadata": {
    "collapsed": true
   },
   "outputs": [],
   "source": [
    "#Prior and Subsequent programs \n",
    "priorProgram = []\n",
    "subsequentProgram = []\n",
    "priorstarttime = []\n",
    "priorProgramnumber = []\n",
    "subsequentProgramnumber = []\n",
    "priorendtime = []\n",
    "subsequentstarttime = []\n",
    "subsequentendtime = []\n",
    "for i in range(int(len(df['EvType'].values))):\n",
    "    if df['EvType'].values[i] == 'Promo':\n",
    "        for j in range(i,-1,-1):\n",
    "            if df['Level'].values[j] == False:\n",
    "                priorProgram.append(df['Description'].values[j])\n",
    "                priorProgramnumber.append(df['Numbers'].values[j])\n",
    "                priorstarttime.append(df['StartTime'].values[j])\n",
    "                priorendtime.append(df['EndTime'].values[j])\n",
    "                break\n",
    "for i in range(int(len(df['EvType'].values))):\n",
    "    if df['EvType'].values[i] == 'Promo':\n",
    "        for j in range(i,int(len(df['EvType'].values))):\n",
    "            if df['Level'].values[j] == False:\n",
    "                subsequentProgram.append(df['Description'].values[j])\n",
    "                subsequentProgramnumber.append(df['Numbers'].values[j])\n",
    "                subsequentstarttime.append(df['StartTime'].values[j])\n",
    "                subsequentendtime.append(df['EndTime'].values[j])\n",
    "                break"
   ]
  },
  {
   "cell_type": "code",
   "execution_count": 32,
   "metadata": {
    "collapsed": true
   },
   "outputs": [],
   "source": [
    "df =  df[df.EvType != 'Program']\n",
    "df['priorProgram'] = priorProgram #-------------------------------------------------Priorprograms---------->\n",
    "df['subsequentProgram'] =  subsequentProgram#--------------------------------------subprograms--------->\n",
    "df['priorstarttime'] = priorstarttime\n",
    "df['priorendtime'] =  priorendtime\n",
    "df['subsequentstarttime'] =  subsequentstarttime\n",
    "df['subsequentendtime'] =  subsequentendtime\n",
    "df['subsequentProgramnumber'] = subsequentProgramnumber\n",
    "df['priorProgramnumber'] = priorProgramnumber\n",
    "df  = df[df.priorProgram.notnull()]\n",
    "df  = df[df.subsequentProgram.notnull()]  "
   ]
  },
  {
   "cell_type": "code",
   "execution_count": 33,
   "metadata": {
    "collapsed": true
   },
   "outputs": [],
   "source": [
    "\n",
    "df.Length= df.Length.astype(str)\n",
    "df.StartTime= df.StartTime.astype(str)\n",
    "df.priorstarttime= df.priorstarttime.astype(str)\n",
    "df.priorendtime= df.priorendtime.astype(str)\n",
    "df.subsequentstarttime= df.subsequentstarttime.astype(str)\n",
    "df.subsequentendtime= df.subsequentendtime.astype(str)\n",
    "ftr = [3600,60,1]\n",
    "leng_seconds = [int(sum([a*b for a,b in zip(ftr, map(int,i.split(':')))])) for i in df['Length'].values]\n",
    "df['Length'] = leng_seconds#----------------------------------------------------------------------------------len in Seconds----------------->\n",
    "StartTime_seconds = [int(sum([a*b for a,b in zip(ftr, map(int,i.split(':')))])) for i in df['StartTime'].values]\n",
    "df['StartTime'] = StartTime_seconds#----------------------------------------------------------------------------------start time in Seconds----------------->\n",
    "EndTime_seconds = [int(sum([a*b for a,b in zip(ftr, map(int,i.split(':')))])) for i in df['EndTime'].values]\n",
    "df['EndTime'] = EndTime_seconds#----------------------------------------------------------------------------------start time in Seconds----------------->\n",
    "priorstarttime_seconds = [int(sum([a*b for a,b in zip(ftr, map(int,i.split(':')))])) for i in df['priorstarttime'].values]\n",
    "df['priorstarttime'] = priorstarttime_seconds#----------------------------------------------------------------------------------start time in Seconds----------------->\n",
    "priorendtime_seconds = [int(sum([a*b for a,b in zip(ftr, map(int,i.split(':')))])) for i in df['priorendtime'].values]\n",
    "df['priorendtime'] = priorendtime_seconds\n",
    "subsequentstarttime_seconds = [int(sum([a*b for a,b in zip(ftr, map(int,i.split(':')))])) for i in df['subsequentstarttime'].values]\n",
    "df['subsequentstarttime'] = subsequentstarttime_seconds\n",
    "subsequentendtime_seconds = [int(sum([a*b for a,b in zip(ftr, map(int,i.split(':')))])) for i in df['subsequentendtime'].values]\n",
    "df['subsequentendtime'] = subsequentendtime_seconds\n",
    "\n",
    "L_1 = []\n",
    "L_2 = []\n",
    "for i in range(len(df['subsequentProgram'].values)):\n",
    "    L_1.append(abs(df['StartTime'].values[i] - df['priorstarttime'].values[i]))\n",
    "    L_2.append(abs(df['priorendtime'].values[i] - df['EndTime'].values[i]))\n",
    "df['L_1'] = L_1\n",
    "df['L_2'] = L_2"
   ]
  },
  {
   "cell_type": "code",
   "execution_count": 81,
   "metadata": {
    "collapsed": false
   },
   "outputs": [
    {
     "name": "stderr",
     "output_type": "stream",
     "text": [
      "C:\\Users\\Kowshik\\AppData\\Local\\Enthought\\Canopy\\User\\lib\\site-packages\\ipykernel\\__main__.py:2: SettingWithCopyWarning: \n",
      "A value is trying to be set on a copy of a slice from a DataFrame.\n",
      "Try using .loc[row_indexer,col_indexer] = value instead\n",
      "\n",
      "See the caveats in the documentation: http://pandas.pydata.org/pandas-docs/stable/indexing.html#indexing-view-versus-copy\n",
      "  from ipykernel import kernelapp as app\n"
     ]
    }
   ],
   "source": [
    "df_test_false = df_test[:]\n",
    "df_test_false['Numbers'] = np.arange(len(df_test_false))\n",
    "df_test_false = df_test_false[df_test_false.Level != True]\n",
    "df_test_false = df_test_false[df_test_false.ProgrammeTheme != 'Teleshopping']\n",
    "#df_test_false.Level= df_test_false.Level.astype(str)\n",
    "#Dropping true Flag values\n",
    "df_test_false = df_test_false[df_test_false.Level != True]\n",
    "#deleting unwanted columns\n",
    "del df_test_false['BreakCode']                                  \n",
    "del df_test_false['EvType']\n",
    "del df_test_false['PromoCategory']\n",
    "del df_test_false['PromoType']\n",
    "del df_test_false['EndTime']\n",
    "del df_test_false['Level'] \n",
    "#Taggin 'Movies / Plays' into Movie\n",
    "Description = df_test_false['Description'].values\n",
    "for i in range(len(df_test_false['Description'].values)):\n",
    "    if df_test_false['ProgrammeTheme'].values[i] == 'Movies / Plays':\n",
    "         Description[i] = 'Movies'\n",
    "    if '1 Hour Special' in df_test_false['Description'].values[i]:\n",
    "        Description[i] = df_test_false['Description'].values[i].replace('- 1 Hour Special','').strip()       \n",
    "df_test_false['Description'] = Description\n",
    "\n",
    "\n",
    "#Deleting and string conversion\n",
    "df_test_false.Date = df_test_false.Date.astype(str)                    #Changing the Date as String \n",
    "df_test_false.ProgrammeTheme= df_test_false.ProgrammeTheme.astype(str) #Changing the Programme Theme in String for encoding \n",
    "df_test_false.ProgrammeGenre= df_test_false.ProgrammeGenre.astype(str) #Changing the Programme Gerne in String for encoding \n",
    "df_test_false.StartTime= df_test_false.StartTime.astype(str) \n",
    "df_test_false.Length= df_test_false.Length.astype(str)\n",
    "Y_test_1 = np.array(df_test_false.Impressions)                       #Creating a array for impression Prediction \n",
    "del df_test_false['Impressions']\n",
    "#del df_test_false['Description']\n",
    "del df_test_false['rat'] \n",
    "del df_test_false['Shr'] \n",
    "del df_test_false['Rch_000'] \n",
    "del df_test_false['Rch'] \n",
    "\n",
    "\n",
    "#Length Dealing\n",
    "ftr = [3600,60,1]\n",
    "leng_seconds = [int(sum([a*b for a,b in zip(ftr, map(int,i.split(':')))])) for i in df_test_false['Length'].values]\n",
    "df_test_false['Length'] = leng_seconds#----------------------------------------------------------------------------------len in Seconds----------------->\n",
    "#Date Dealing\n",
    "month = [map(int,i.split('-'))[1] for i in df_test_false['Date'].values]\n",
    "day = [map(int,i.split('-'))[2] for i in df_test_false['Date'].values]\n",
    "df_test_false['Month'] = month       #----------------------------------------------------------------------------------Month--------->\n",
    "df_test_false['day'] = day           #------------------------------------------------------------------------------------Day--------->\n",
    "#Weekday dealing\n",
    "weekday = []\n",
    "import datetime\n",
    "for i in df_test_false['Date'].values:\n",
    "    year, month, day = (int(x) for x in i.split('-'))    \n",
    "    ans = datetime.date(year, month, day)\n",
    "    weekday.append(ans.strftime(\"%A\"))\n",
    "df_test_false['weekday'] = weekday  #---------------------------------------------------------------------------------------WeekdaysX------------>\n",
    "#Binary weekdays dealing\n",
    "binary_weekday = weekday[:]\n",
    "for i in range(len(weekday)):\n",
    "    if weekday[i] == 'Saturday':\n",
    "        binary_weekday[i] = 'Yes'\n",
    "    elif weekday[i] == 'Sunday':\n",
    "        binary_weekday[i] = 'Yes'\n",
    "    else:\n",
    "        binary_weekday[i] = 'No'\n",
    "df_test_false['B_weekday'] = binary_weekday #--------------------------------------------------------------------------------Binary weekend------>\n",
    "del df_test_false['Date'] #-----------------------------------------------------------------------------------------------Deleting Date------\n",
    "\n",
    "#StartTime Dealing\n",
    "Starttime = df_test_false['StartTime'].values\n",
    "for i in range(len(df_test_false['StartTime'].values)):\n",
    "    if len(df_test_false['StartTime'].values[i].split()) == 2:     \n",
    "        Starttime[i] =  df_test_false['StartTime'].values[i].split()[1]\n",
    "df_test_false['StartTime'] = Starttime #------------------------------------------------------------------------------------------Start time\n",
    "df_test_false['hour'] = [map(int,i.split(':'))[0] for i in df_test_false['StartTime'].values]#--------------------hour------------------------------->\n",
    "df_test_false.hour= df_test_false.hour.astype(str)\n",
    "df_test_false['StartTime'] = [map(int,i.split(':'))[0]+ map(int,i.split(':'))[1]/60.0+map(int,i.split(':'))[1]/3600.0 for i in df_test_false['StartTime'].values]\n",
    "\n",
    "##################################################################################\n",
    "#Prior and Subsequent programs \n",
    "priorProgram = []\n",
    "subsequentProgram = []\n",
    "for i in range(1,len(df_test_false['Description'].values)-1):\n",
    "    priorProgram.append(df_test_false['Description'].values[i-1])\n",
    "    subsequentProgram.append(df_test_false['Description'].values[i+1])\n",
    "df_test_false =df_test_false.drop(df_test_false.index[[0]])\n",
    "df_test_false =df_test_false.drop(df_test_false.index[[len(df_test_false['Description'].values)-1]])\n",
    "df_test_false['priorProgram'] = priorProgram \n",
    "df_test_false['subsequentProgram'] =  subsequentProgram\n",
    "\n",
    "\n",
    "\n",
    "\n",
    "\n",
    "\n",
    "Description_classified_prior = df_test_false['priorProgram'].values[:]\n",
    "df_test_false['priorProgram1'] = df_test_false['priorProgram'].values\n",
    "for i in range(len(df_test_false['priorProgram'].values)):\n",
    "    if df_test_false['priorProgram'].values[i] in df_train['Description'].values:\n",
    "        Description_classified_prior[i] = clu.predict(PI_AVG[df_test_false['priorProgram'].values[i]])[0]\n",
    "       \n",
    "    else:\n",
    "        for k in range(len(df_bl)):\n",
    "            if df_test_false['hour'].values[i] ==  df_bl['Hour'].values[k]:\n",
    "                Description_classified_prior[i] = clu.predict(df_bl['BaseLine'].values[k])[0]\n",
    "                #pr1.append(df_test_false['priorProgram1'].values[i])\n",
    "\n",
    "\n",
    "Description_classifiedsubsequent = df_test_false['subsequentProgram'].values[:]\n",
    "df_test_false['subsequentProgram1'] = df_test_false['subsequentProgram'].values\n",
    "for i in range(len(df_test_false['subsequentProgram'].values)):\n",
    "    if df_test_false['subsequentProgram'].values[i] in df_train['Description'].values:\n",
    "        Description_classifiedsubsequent[i] = clu.predict(PI_AVG[df_test_false['subsequentProgram'].values[i]])[0] \n",
    "    else:\n",
    "        for k in range(len(df_bl)):\n",
    "            if df_test_false['hour'].values[i] ==  df_bl['Hour'].values[k]:\n",
    "                Description_classifiedsubsequent[i] = clu.predict(df_bl['BaseLine'].values[k])[0]\n",
    "################################################################################################################################\n",
    "del df_test_false['Description']\n"
   ]
  },
  {
   "cell_type": "code",
   "execution_count": 34,
   "metadata": {
    "collapsed": true
   },
   "outputs": [],
   "source": [
    "#Decision channel\n",
    "df_tr = df_train_false[:]\n",
    "\n",
    "#del df_tr['StartTime'] #-------------------------------------------------------------------------------------------deleting starttime------>#\n",
    "#del df_tr['priorProgram'] #---------------------------------------------------------------------------------- -----prior programme--------->\n",
    "#del df_tr['subsequentProgram']#-------------------------------------------------------------------------- ----- ---subsequent programme\n",
    "#del df_tr['Length'] #---------------------------------------------------------------------------------------------del length -------------->\n",
    "#del df_tr['ProgrammeTheme'] #-------------------------------  ---------------------------------------------------- programe theme------->\n",
    "#del df_tr['ProgrammeGenre'] #------------------------------------------------------------------------------------- ProgrammeGenre------->\n",
    "del df_tr['B_weekday'] #---------------------------------------------------------------  --------------------------B-weekend------>\n",
    "del df_tr['hour'] #-----------------------------------------------------------------------  ------------------------Hour--------->\n",
    "#del df_tr['weekday'] #---------------------------------------------------------------------- -----------------------weekday-------->\n",
    "#del df_tr['day'] #-------------------------------------------------------------------------- ------------------------day------->\n",
    "#del df_tr['Month'] #-------------------------------------------------------------------------------------------------Month------>"
   ]
  },
  {
   "cell_type": "code",
   "execution_count": 36,
   "metadata": {
    "collapsed": false
   },
   "outputs": [],
   "source": [
    "#Decision channel\n",
    "df_te = df_test_false[:]\n",
    "#del df_te['Numbers']\n",
    "#del df_te['StartTime'] #-------------------------------------------------------------------------------------------deleting starttime------>#\n",
    "#del df_te['priorProgram'] #---------------------------------------------------------------------------------- -----prior programme--------->\n",
    "del df_te['subsequentProgram']#-------------------------------------------------------------------------- ----- ---subsequent programme\n",
    "#del df_te['Length'] #---------------------------------------------------------------------------------------------del length -------------->\n",
    "#del df_te['ProgrammeTheme'] #-------------------------------  ---------------------------------------------------- programe theme------->\n",
    "#del df_te['ProgrammeGenre'] #------------------------------------------------------------------------------------- ProgrammeGenre------->\n",
    "del df_te['B_weekday'] #---------------------------------------------------------------  --------------------------B-weekend------>\n",
    "del df_te['hour'] #-----------------------------------------------------------------------  ------------------------Hour--------->\n",
    "#del df_te['weekday'] #---------------------------------------------------------------------- -----------------------weekday-------->\n",
    "#del df_te['day'] #-------------------------------------------------------------------------- ------------------------day------->\n",
    "#del df_te['Month'] #-------------------------------------------------------------------------------------------------Month------>"
   ]
  },
  {
   "cell_type": "code",
   "execution_count": 37,
   "metadata": {
    "collapsed": true
   },
   "outputs": [],
   "source": [
    "#ENCODING\n",
    "X_train = df_tr.to_dict('records')\n",
    "X_test = df_te.to_dict('records')\n",
    "X_tr = []\n",
    "X_te = []\n",
    "X_tr.extend(X_train)\n",
    "X_te.extend(X_test)\n",
    "X_total = X_tr + X_te"
   ]
  },
  {
   "cell_type": "code",
   "execution_count": 38,
   "metadata": {
    "collapsed": true
   },
   "outputs": [],
   "source": [
    "#One Hot Encoding \n",
    "enc = DictVectorizer()\n",
    "X_encoded_total =enc.fit_transform(X_total)\n",
    "X_encoded_train =X_encoded_total[:len(X_tr)]\n",
    "X_encoded_test =X_encoded_total[len(X_tr):]"
   ]
  },
  {
   "cell_type": "code",
   "execution_count": 40,
   "metadata": {
    "collapsed": false
   },
   "outputs": [
    {
     "data": {
      "text/plain": [
       "0.80542857212802499"
      ]
     },
     "execution_count": 40,
     "metadata": {},
     "output_type": "execute_result"
    }
   ],
   "source": [
    "#Extra Trees\n",
    "reg1 = ExtraTreesRegressor()\n",
    "reg1.fit(X_encoded_train,Y_train_1)\n",
    "Y_pred1 = reg1.predict(X_encoded_test)\n",
    "from sklearn.metrics import r2_score\n",
    "r2_score(Y_pred1 ,Y_test_1)"
   ]
  },
  {
   "cell_type": "code",
   "execution_count": 41,
   "metadata": {
    "collapsed": true
   },
   "outputs": [],
   "source": [
    "df_test_false['predicted'] = Y_pred1\n",
    "df_false = df_test_false[['predicted']]"
   ]
  },
  {
   "cell_type": "code",
   "execution_count": 42,
   "metadata": {
    "collapsed": true
   },
   "outputs": [],
   "source": [
    "df = df[df.priorProgramnumber != 0]\n",
    "df = df[df.subsequentProgramnumber != 12372]"
   ]
  },
  {
   "cell_type": "code",
   "execution_count": 43,
   "metadata": {
    "collapsed": true
   },
   "outputs": [],
   "source": [
    "priorProgram = []\n",
    "subsequentProgram = []\n",
    "for i in df['priorProgramnumber'].values:\n",
    "    priorProgram.append(df_false.to_dict()['predicted'][i])\n",
    "    subsequentProgram.append(df_false.to_dict()['predicted'][i])\n",
    "df['priorProgram'] = priorProgram\n",
    "df['subsequentProgram'] = subsequentProgram"
   ]
  },
  {
   "cell_type": "code",
   "execution_count": 44,
   "metadata": {
    "collapsed": true
   },
   "outputs": [],
   "source": [
    "X_test_ca = []\n",
    "for i in range(len(priorProgram)):\n",
    "    X_test_ca.append([df['priorProgram'].values[i],df['subsequentProgram'].values[i],df['L_1'].values[i],df['L_2'].values[i]])"
   ]
  },
  {
   "cell_type": "code",
   "execution_count": 48,
   "metadata": {
    "collapsed": true
   },
   "outputs": [],
   "source": [
    "from sklearn.linear_model import LinearRegression\n",
    "reg = GradientBoostingRegressor()\n",
    "reg.fit(X_train_bp,Y_train_bp)\n",
    "Y_pred_ca =  reg.predict(X_test_ca)"
   ]
  },
  {
   "cell_type": "code",
   "execution_count": 50,
   "metadata": {
    "collapsed": false
   },
   "outputs": [
    {
     "name": "stdout",
     "output_type": "stream",
     "text": [
      "0.707476411496\n",
      "635.140968885\n",
      "1571895.65554\n",
      "1253.75262932\n"
     ]
    }
   ],
   "source": [
    "print r2_score(Y_pred_ca,df['Impressions'].values)\n",
    "from sklearn.metrics import mean_absolute_error,mean_squared_error\n",
    "print mean_absolute_error(Y_pred_ca,df['Impressions'].values)\n",
    "print mean_squared_error(Y_pred_ca,df['Impressions'].values)\n",
    "print (mean_squared_error(Y_pred_ca,df['Impressions'].values))**0.5\n",
    "\n"
   ]
  },
  {
   "cell_type": "code",
   "execution_count": 27,
   "metadata": {
    "collapsed": false
   },
   "outputs": [
    {
     "ename": "NameError",
     "evalue": "name 'df' is not defined",
     "output_type": "error",
     "traceback": [
      "\u001b[1;31m---------------------------------------------------------------------------\u001b[0m",
      "\u001b[1;31mNameError\u001b[0m                                 Traceback (most recent call last)",
      "\u001b[1;32m<ipython-input-27-3064d046263a>\u001b[0m in \u001b[0;36m<module>\u001b[1;34m()\u001b[0m\n\u001b[0;32m      4\u001b[0m \u001b[0mA\u001b[0m \u001b[1;33m=\u001b[0m \u001b[1;36m600\u001b[0m\u001b[1;33m\u001b[0m\u001b[0m\n\u001b[0;32m      5\u001b[0m \u001b[0mX\u001b[0m \u001b[1;33m=\u001b[0m \u001b[0mnp\u001b[0m\u001b[1;33m.\u001b[0m\u001b[0marange\u001b[0m\u001b[1;33m(\u001b[0m\u001b[0mA\u001b[0m\u001b[1;33m)\u001b[0m\u001b[1;33m\u001b[0m\u001b[0m\n\u001b[1;32m----> 6\u001b[1;33m \u001b[0mY\u001b[0m \u001b[1;33m=\u001b[0m \u001b[0mdf\u001b[0m\u001b[1;33m[\u001b[0m\u001b[1;34m'Impressions'\u001b[0m\u001b[1;33m]\u001b[0m\u001b[1;33m.\u001b[0m\u001b[0mvalues\u001b[0m\u001b[1;33m[\u001b[0m\u001b[1;33m:\u001b[0m\u001b[0mA\u001b[0m\u001b[1;33m]\u001b[0m\u001b[1;33m\u001b[0m\u001b[0m\n\u001b[0m\u001b[0;32m      7\u001b[0m \u001b[0mx\u001b[0m \u001b[1;33m=\u001b[0m \u001b[0mnp\u001b[0m\u001b[1;33m.\u001b[0m\u001b[0marange\u001b[0m\u001b[1;33m(\u001b[0m\u001b[0mA\u001b[0m\u001b[1;33m)\u001b[0m\u001b[1;33m\u001b[0m\u001b[0m\n\u001b[0;32m      8\u001b[0m \u001b[0my\u001b[0m \u001b[1;33m=\u001b[0m \u001b[0mY_pred_ca\u001b[0m\u001b[1;33m[\u001b[0m\u001b[1;33m:\u001b[0m\u001b[0mA\u001b[0m\u001b[1;33m]\u001b[0m\u001b[1;33m\u001b[0m\u001b[0m\n",
      "\u001b[1;31mNameError\u001b[0m: name 'df' is not defined"
     ]
    }
   ],
   "source": [
    "import numpy as np\n",
    "import matplotlib.pyplot as plt\n",
    "#OUR DATA\n",
    "A = 600\n",
    "X = np.arange(A)\n",
    "Y = df['Impressions'].values[:A]\n",
    "x = np.arange(A)\n",
    "y = Y_pred_ca[:A]\n",
    "####################\n",
    "#Visuvalization\n",
    "canvas = plt.figure()\n",
    "rect = canvas.patch\n",
    "rect.set_facecolor('white')\n",
    "sp1 = canvas.add_subplot(1,1,1, axisbg='w')\n",
    "sp1.plot(x, y, 'Red', linewidth=2)\n",
    "sp1.plot(X, Y, 'Black', linewidth=1)\n",
    "\n",
    "sp1.patch.set_facecolor('white') #------> background colour\n",
    "\n",
    "sp1.tick_params(axis='x', colors='green') #---------> X-value colour\n",
    "sp1.tick_params(axis='y', colors='red') #----------> y-value colour\n",
    "\n",
    "sp1.spines['bottom'].set_color('black')        #Colour of spines \n",
    "sp1.spines['top'].set_visible('False')\n",
    "sp1.spines['left'].set_color('black')\n",
    "sp1.spines['right'].set_visible('False')\n",
    "\n",
    "sp1.set_title('Impressions vs time Using Extra Classifier', color='red')\n",
    "sp1.set_xlabel('Time,BLUE -Actual', color='red')      #Colour of title and lables \n",
    "sp1.set_ylabel('Impression', color='red')\n",
    "plt.plot(X,Y)\n",
    "plt.plot(x,y)\n",
    "\n",
    "plt.tight_layout()\n",
    "plt.show()"
   ]
  },
  {
   "cell_type": "code",
   "execution_count": null,
   "metadata": {
    "collapsed": true
   },
   "outputs": [],
   "source": []
  }
 ],
 "metadata": {
  "kernelspec": {
   "display_name": "Python 2",
   "language": "python",
   "name": "python2"
  },
  "language_info": {
   "codemirror_mode": {
    "name": "ipython",
    "version": 2
   },
   "file_extension": ".py",
   "mimetype": "text/x-python",
   "name": "python",
   "nbconvert_exporter": "python",
   "pygments_lexer": "ipython2",
   "version": "2.7.10"
  }
 },
 "nbformat": 4,
 "nbformat_minor": 0
}
